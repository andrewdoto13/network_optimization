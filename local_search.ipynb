{
 "cells": [
  {
   "cell_type": "markdown",
   "metadata": {},
   "source": [
    "## Import libraries"
   ]
  },
  {
   "cell_type": "code",
   "execution_count": 2,
   "metadata": {},
   "outputs": [],
   "source": [
    "import pandas as pd\n",
    "import numpy as np\n",
    "\n",
    "from network_optimizer import NetworkOptimizer\n",
    "import synthetic_data_generators as sdg"
   ]
  },
  {
   "cell_type": "markdown",
   "metadata": {},
   "source": [
    "## Create Synthetic Data"
   ]
  },
  {
   "cell_type": "code",
   "execution_count": 3,
   "metadata": {},
   "outputs": [],
   "source": [
    "NETWORK_SIZE = 100\n",
    "POOL_SIZE = 100\n",
    "MEMBER_SIZE = 100\n",
    "NUM_ROUNDS = 5\n",
    "MIN_LATITUDE = 42000000 #42.015438\n",
    "MAX_LATITUDE = 42500000 #42.481365\n",
    "MIN_LONGITUDE = -83600000 #-83.566956\n",
    "MAX_LONGITUDE = -82600000 #-82.628043"
   ]
  },
  {
   "cell_type": "code",
   "execution_count": 4,
   "metadata": {},
   "outputs": [],
   "source": [
    "synth_network = sdg.generate_providers(NETWORK_SIZE, MIN_LATITUDE, MAX_LATITUDE, MIN_LONGITUDE, MAX_LONGITUDE)\n",
    "synth_pool = sdg.generate_providers(POOL_SIZE, MIN_LATITUDE, MAX_LATITUDE, MIN_LONGITUDE, MAX_LONGITUDE)\n",
    "synth_members = sdg.generate_members(MEMBER_SIZE, MIN_LATITUDE, MAX_LATITUDE, MIN_LONGITUDE, MAX_LONGITUDE)\n",
    "synth_reqs = sdg.synth_reqs"
   ]
  },
  {
   "cell_type": "code",
   "execution_count": 5,
   "metadata": {},
   "outputs": [
    {
     "name": "stdout",
     "output_type": "stream",
     "text": [
      "Network size: 100\n",
      "Pool size: 100\n",
      "Number of members: 100\n"
     ]
    },
    {
     "data": {
      "text/html": [
       "<div>\n",
       "<style scoped>\n",
       "    .dataframe tbody tr th:only-of-type {\n",
       "        vertical-align: middle;\n",
       "    }\n",
       "\n",
       "    .dataframe tbody tr th {\n",
       "        vertical-align: top;\n",
       "    }\n",
       "\n",
       "    .dataframe thead th {\n",
       "        text-align: right;\n",
       "    }\n",
       "</style>\n",
       "<table border=\"1\" class=\"dataframe\">\n",
       "  <thead>\n",
       "    <tr style=\"text-align: right;\">\n",
       "      <th></th>\n",
       "      <th>specialty</th>\n",
       "      <th>county</th>\n",
       "      <th>distance_req</th>\n",
       "      <th>min_access_pct</th>\n",
       "      <th>min_providers</th>\n",
       "    </tr>\n",
       "  </thead>\n",
       "  <tbody>\n",
       "    <tr>\n",
       "      <th>0</th>\n",
       "      <td>cardiologist</td>\n",
       "      <td>wayne</td>\n",
       "      <td>15</td>\n",
       "      <td>90</td>\n",
       "      <td>5</td>\n",
       "    </tr>\n",
       "    <tr>\n",
       "      <th>1</th>\n",
       "      <td>pcp</td>\n",
       "      <td>wayne</td>\n",
       "      <td>15</td>\n",
       "      <td>90</td>\n",
       "      <td>10</td>\n",
       "    </tr>\n",
       "    <tr>\n",
       "      <th>2</th>\n",
       "      <td>ent</td>\n",
       "      <td>wayne</td>\n",
       "      <td>15</td>\n",
       "      <td>90</td>\n",
       "      <td>5</td>\n",
       "    </tr>\n",
       "    <tr>\n",
       "      <th>3</th>\n",
       "      <td>urologist</td>\n",
       "      <td>wayne</td>\n",
       "      <td>15</td>\n",
       "      <td>90</td>\n",
       "      <td>5</td>\n",
       "    </tr>\n",
       "    <tr>\n",
       "      <th>4</th>\n",
       "      <td>obgyn</td>\n",
       "      <td>wayne</td>\n",
       "      <td>15</td>\n",
       "      <td>90</td>\n",
       "      <td>5</td>\n",
       "    </tr>\n",
       "  </tbody>\n",
       "</table>\n",
       "</div>"
      ],
      "text/plain": [
       "      specialty county  distance_req  min_access_pct  min_providers\n",
       "0  cardiologist  wayne            15              90              5\n",
       "1           pcp  wayne            15              90             10\n",
       "2           ent  wayne            15              90              5\n",
       "3     urologist  wayne            15              90              5\n",
       "4         obgyn  wayne            15              90              5"
      ]
     },
     "execution_count": 5,
     "metadata": {},
     "output_type": "execute_result"
    }
   ],
   "source": [
    "print(f\"Network size: {len(synth_network)}\")\n",
    "print(f\"Pool size: {len(synth_pool)}\")\n",
    "print(f\"Number of members: {len(synth_members)}\")\n",
    "synth_reqs"
   ]
  },
  {
   "cell_type": "markdown",
   "metadata": {},
   "source": [
    "## Run Optimization"
   ]
  },
  {
   "cell_type": "code",
   "execution_count": 6,
   "metadata": {},
   "outputs": [],
   "source": [
    "def user_objective(self, network):\n",
    "    return self.adequacy(network) / len(network)"
   ]
  },
  {
   "cell_type": "code",
   "execution_count": 7,
   "metadata": {},
   "outputs": [],
   "source": [
    "optimizer = NetworkOptimizer(pool=synth_pool, \n",
    "                             members=synth_members,\n",
    "                             adequacy_reqs=synth_reqs,\n",
    "                             network=synth_network,\n",
    "                             user_objective=user_objective\n",
    "                             )"
   ]
  },
  {
   "cell_type": "code",
   "execution_count": 12,
   "metadata": {},
   "outputs": [
    {
     "name": "stdout",
     "output_type": "stream",
     "text": [
      "Optimization round 6 ...\n",
      "Optimization round 7 ...\n",
      "Optimization round 8 ...\n",
      "Optimization round 9 ...\n",
      "Optimization round 10 ...\n",
      "Average seconds per round of optimization: 0.1\n",
      "Adequacy score for best network: 1\n",
      "\n"
     ]
    }
   ],
   "source": [
    "optimizer.optimize(5)"
   ]
  },
  {
   "cell_type": "code",
   "execution_count": 13,
   "metadata": {},
   "outputs": [
    {
     "data": {
      "text/plain": [
       "array([0.0101 , 0.0102 , 0.01031, 0.01042, 0.01053, 0.01064, 0.01075,\n",
       "       0.01087, 0.01099, 0.01111])"
      ]
     },
     "execution_count": 13,
     "metadata": {},
     "output_type": "execute_result"
    }
   ],
   "source": [
    "optimizer.performance_history[-10:].round(5)"
   ]
  },
  {
   "cell_type": "code",
   "execution_count": 14,
   "metadata": {},
   "outputs": [
    {
     "name": "stdout",
     "output_type": "stream",
     "text": [
      "Adequacy Index: 1\n",
      "Network size: 90\n"
     ]
    },
    {
     "data": {
      "text/html": [
       "<div>\n",
       "<style scoped>\n",
       "    .dataframe tbody tr th:only-of-type {\n",
       "        vertical-align: middle;\n",
       "    }\n",
       "\n",
       "    .dataframe tbody tr th {\n",
       "        vertical-align: top;\n",
       "    }\n",
       "\n",
       "    .dataframe thead th {\n",
       "        text-align: right;\n",
       "    }\n",
       "</style>\n",
       "<table border=\"1\" class=\"dataframe\">\n",
       "  <thead>\n",
       "    <tr style=\"text-align: right;\">\n",
       "      <th></th>\n",
       "      <th>specialty</th>\n",
       "      <th>county</th>\n",
       "      <th>distance_req</th>\n",
       "      <th>min_access_pct</th>\n",
       "      <th>min_providers</th>\n",
       "      <th>members_with_access</th>\n",
       "      <th>pct_members_with_access</th>\n",
       "      <th>provider_count</th>\n",
       "      <th>pct_req_providers</th>\n",
       "    </tr>\n",
       "  </thead>\n",
       "  <tbody>\n",
       "    <tr>\n",
       "      <th>0</th>\n",
       "      <td>cardiologist</td>\n",
       "      <td>wayne</td>\n",
       "      <td>15</td>\n",
       "      <td>90</td>\n",
       "      <td>5</td>\n",
       "      <td>100</td>\n",
       "      <td>1.00</td>\n",
       "      <td>20</td>\n",
       "      <td>4.0</td>\n",
       "    </tr>\n",
       "    <tr>\n",
       "      <th>1</th>\n",
       "      <td>pcp</td>\n",
       "      <td>wayne</td>\n",
       "      <td>15</td>\n",
       "      <td>90</td>\n",
       "      <td>10</td>\n",
       "      <td>100</td>\n",
       "      <td>1.00</td>\n",
       "      <td>19</td>\n",
       "      <td>1.9</td>\n",
       "    </tr>\n",
       "    <tr>\n",
       "      <th>2</th>\n",
       "      <td>ent</td>\n",
       "      <td>wayne</td>\n",
       "      <td>15</td>\n",
       "      <td>90</td>\n",
       "      <td>5</td>\n",
       "      <td>92</td>\n",
       "      <td>0.92</td>\n",
       "      <td>14</td>\n",
       "      <td>2.8</td>\n",
       "    </tr>\n",
       "    <tr>\n",
       "      <th>3</th>\n",
       "      <td>urologist</td>\n",
       "      <td>wayne</td>\n",
       "      <td>15</td>\n",
       "      <td>90</td>\n",
       "      <td>5</td>\n",
       "      <td>99</td>\n",
       "      <td>0.99</td>\n",
       "      <td>18</td>\n",
       "      <td>3.6</td>\n",
       "    </tr>\n",
       "    <tr>\n",
       "      <th>4</th>\n",
       "      <td>obgyn</td>\n",
       "      <td>wayne</td>\n",
       "      <td>15</td>\n",
       "      <td>90</td>\n",
       "      <td>5</td>\n",
       "      <td>100</td>\n",
       "      <td>1.00</td>\n",
       "      <td>19</td>\n",
       "      <td>3.8</td>\n",
       "    </tr>\n",
       "  </tbody>\n",
       "</table>\n",
       "</div>"
      ],
      "text/plain": [
       "      specialty county  distance_req  min_access_pct  min_providers  \\\n",
       "0  cardiologist  wayne            15              90              5   \n",
       "1           pcp  wayne            15              90             10   \n",
       "2           ent  wayne            15              90              5   \n",
       "3     urologist  wayne            15              90              5   \n",
       "4         obgyn  wayne            15              90              5   \n",
       "\n",
       "   members_with_access  pct_members_with_access  provider_count  \\\n",
       "0                  100                     1.00              20   \n",
       "1                  100                     1.00              19   \n",
       "2                   92                     0.92              14   \n",
       "3                   99                     0.99              18   \n",
       "4                  100                     1.00              19   \n",
       "\n",
       "   pct_req_providers  \n",
       "0                4.0  \n",
       "1                1.9  \n",
       "2                2.8  \n",
       "3                3.6  \n",
       "4                3.8  "
      ]
     },
     "execution_count": 14,
     "metadata": {},
     "output_type": "execute_result"
    }
   ],
   "source": [
    "print(f\"Adequacy Index: {optimizer.adequacy(optimizer.best_network)}\")\n",
    "print(f\"Network size: {len(optimizer.best_network)}\")\n",
    "optimizer.adequacy_detail"
   ]
  },
  {
   "cell_type": "code",
   "execution_count": 15,
   "metadata": {},
   "outputs": [
    {
     "data": {
      "text/plain": [
       "[('removal', 56),\n",
       " ('removal', 78),\n",
       " ('removal', 18),\n",
       " ('removal', 99),\n",
       " ('removal', 20),\n",
       " ('removal', 82),\n",
       " ('removal', 37),\n",
       " ('removal', 39),\n",
       " ('removal', 4),\n",
       " ('removal', 5)]"
      ]
     },
     "execution_count": 15,
     "metadata": {},
     "output_type": "execute_result"
    }
   ],
   "source": [
    "optimizer.move_tracker"
   ]
  },
  {
   "cell_type": "code",
   "execution_count": null,
   "metadata": {},
   "outputs": [],
   "source": []
  }
 ],
 "metadata": {
  "kernelspec": {
   "display_name": "base",
   "language": "python",
   "name": "python3"
  },
  "language_info": {
   "codemirror_mode": {
    "name": "ipython",
    "version": 3
   },
   "file_extension": ".py",
   "mimetype": "text/x-python",
   "name": "python",
   "nbconvert_exporter": "python",
   "pygments_lexer": "ipython3",
   "version": "3.7.undefined"
  }
 },
 "nbformat": 4,
 "nbformat_minor": 2
}
