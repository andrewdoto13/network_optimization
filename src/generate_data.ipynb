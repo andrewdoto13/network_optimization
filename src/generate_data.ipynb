{
 "cells": [
  {
   "cell_type": "markdown",
   "metadata": {},
   "source": [
    "## Import libraries"
   ]
  },
  {
   "cell_type": "code",
   "execution_count": 1,
   "metadata": {},
   "outputs": [],
   "source": [
    "import synthetic_data_generators as sdg\n",
    "import numpy as np\n",
    "import pandas as pd\n",
    "import altair as alt\n",
    "from vega_datasets import data"
   ]
  },
  {
   "cell_type": "markdown",
   "metadata": {},
   "source": [
    "## Generate data"
   ]
  },
  {
   "cell_type": "code",
   "execution_count": 2,
   "metadata": {},
   "outputs": [],
   "source": [
    "NUM_PROVIDERS = 100\n",
    "NUM_LOCATIONS = 100\n",
    "NUM_GROUPS = 15\n",
    "SPECIALTIES = [\"cardiologist\", \"pcp\", \"ent\", \"urologist\", \"obgyn\"]\n",
    "COUNTY = \"wayne\"\n",
    "MEMBER_SIZE = 1000\n",
    "MIN_LATITUDE = 42000000 #42.015438\n",
    "MAX_LATITUDE = 42500000 #42.481365\n",
    "MIN_LONGITUDE = -84000000 #-83.566956\n",
    "MAX_LONGITUDE = -83400000 #-82.628043"
   ]
  },
  {
   "cell_type": "code",
   "execution_count": 3,
   "metadata": {},
   "outputs": [],
   "source": [
    "synth_network = sdg.generate_providers(NUM_PROVIDERS, \n",
    "                                       NUM_LOCATIONS, \n",
    "                                       NUM_GROUPS, \n",
    "                                       SPECIALTIES, \n",
    "                                       COUNTY, MIN_LATITUDE-100000, MAX_LATITUDE-100000, MIN_LONGITUDE, MAX_LONGITUDE)\n",
    "\n",
    "synth_pool = sdg.generate_providers(NUM_PROVIDERS, \n",
    "                                       NUM_LOCATIONS, \n",
    "                                       NUM_GROUPS, \n",
    "                                       SPECIALTIES, \n",
    "                                       COUNTY, MIN_LATITUDE-100000, MAX_LATITUDE-100000, MIN_LONGITUDE, MAX_LONGITUDE)\n",
    "\n",
    "synth_members = sdg.generate_members(MEMBER_SIZE, MIN_LATITUDE, MAX_LATITUDE, MIN_LONGITUDE, MAX_LONGITUDE)"
   ]
  },
  {
   "cell_type": "code",
   "execution_count": 4,
   "metadata": {},
   "outputs": [],
   "source": [
    "synth_network.to_csv(\"../data/synth_network.csv\", index=False)\n",
    "synth_pool.to_csv(\"../data/synth_pool.csv\", index=False)\n",
    "synth_members.to_csv(\"../data/synth_members.csv\", index=False)"
   ]
  },
  {
   "cell_type": "markdown",
   "metadata": {},
   "source": [
    "## Visualize data"
   ]
  },
  {
   "cell_type": "code",
   "execution_count": 5,
   "metadata": {},
   "outputs": [
    {
     "data": {
      "text/html": [
       "\n",
       "<div id=\"altair-viz-45c331bee250474889b3684e3f630188\"></div>\n",
       "<script type=\"text/javascript\">\n",
       "  (function(spec, embedOpt){\n",
       "    let outputDiv = document.currentScript.previousElementSibling;\n",
       "    if (outputDiv.id !== \"altair-viz-45c331bee250474889b3684e3f630188\") {\n",
       "      outputDiv = document.getElementById(\"altair-viz-45c331bee250474889b3684e3f630188\");\n",
       "    }\n",
       "    const paths = {\n",
       "      \"vega\": \"https://cdn.jsdelivr.net/npm//vega@5?noext\",\n",
       "      \"vega-lib\": \"https://cdn.jsdelivr.net/npm//vega-lib?noext\",\n",
       "      \"vega-lite\": \"https://cdn.jsdelivr.net/npm//vega-lite@4.8.1?noext\",\n",
       "      \"vega-embed\": \"https://cdn.jsdelivr.net/npm//vega-embed@6?noext\",\n",
       "    };\n",
       "\n",
       "    function loadScript(lib) {\n",
       "      return new Promise(function(resolve, reject) {\n",
       "        var s = document.createElement('script');\n",
       "        s.src = paths[lib];\n",
       "        s.async = true;\n",
       "        s.onload = () => resolve(paths[lib]);\n",
       "        s.onerror = () => reject(`Error loading script: ${paths[lib]}`);\n",
       "        document.getElementsByTagName(\"head\")[0].appendChild(s);\n",
       "      });\n",
       "    }\n",
       "\n",
       "    function showError(err) {\n",
       "      outputDiv.innerHTML = `<div class=\"error\" style=\"color:red;\">${err}</div>`;\n",
       "      throw err;\n",
       "    }\n",
       "\n",
       "    function displayChart(vegaEmbed) {\n",
       "      vegaEmbed(outputDiv, spec, embedOpt)\n",
       "        .catch(err => showError(`Javascript Error: ${err.message}<br>This usually means there's a typo in your chart specification. See the javascript console for the full traceback.`));\n",
       "    }\n",
       "\n",
       "    if(typeof define === \"function\" && define.amd) {\n",
       "      requirejs.config({paths});\n",
       "      require([\"vega-embed\"], displayChart, err => showError(`Error loading script: ${err.message}`));\n",
       "    } else if (typeof vegaEmbed === \"function\") {\n",
       "      displayChart(vegaEmbed);\n",
       "    } else {\n",
       "      loadScript(\"vega\")\n",
       "        .then(() => loadScript(\"vega-lite\"))\n",
       "        .then(() => loadScript(\"vega-embed\"))\n",
       "        .catch(showError)\n",
       "        .then(() => displayChart(vegaEmbed));\n",
       "    }\n",
       "  })({\"config\": {\"view\": {\"continuousWidth\": 400, \"continuousHeight\": 300}}, \"layer\": [{\"data\": {\"url\": \"https://vega.github.io/vega-datasets/data/us-10m.json\", \"format\": {\"feature\": \"states\", \"type\": \"topojson\"}}, \"mark\": {\"type\": \"geoshape\", \"fill\": \"lightgray\", \"stroke\": \"white\"}, \"height\": 1000, \"projection\": {\"type\": \"albersUsa\"}, \"width\": 2000}, {\"data\": {\"name\": \"data-3b1d3ada620f36b4dbf3754e4dd44fc5\"}, \"mark\": {\"type\": \"circle\", \"color\": \"red\"}, \"encoding\": {\"latitude\": {\"field\": \"latitude\", \"type\": \"quantitative\"}, \"longitude\": {\"field\": \"longitude\", \"type\": \"quantitative\"}, \"size\": {\"value\": 0.5}}}, {\"data\": {\"name\": \"data-5fa71b723c249b30a9fdaebac34ba646\"}, \"mark\": {\"type\": \"circle\", \"color\": \"blue\"}, \"encoding\": {\"latitude\": {\"field\": \"latitude\", \"type\": \"quantitative\"}, \"longitude\": {\"field\": \"longitude\", \"type\": \"quantitative\"}, \"size\": {\"value\": 0.5}}}], \"$schema\": \"https://vega.github.io/schema/vega-lite/v4.8.1.json\", \"datasets\": {\"data-3b1d3ada620f36b4dbf3754e4dd44fc5\": [{\"member_id\": 0, \"county\": \"wayne\", \"latitude\": 42.334931, \"longitude\": -83.798905}, {\"member_id\": 1, \"county\": \"wayne\", \"latitude\": 42.089999, \"longitude\": -83.75217}, {\"member_id\": 2, \"county\": \"wayne\", \"latitude\": 42.044657, \"longitude\": -83.500196}, {\"member_id\": 3, \"county\": \"wayne\", \"latitude\": 42.28172, \"longitude\": -83.652579}, {\"member_id\": 4, \"county\": \"wayne\", \"latitude\": 42.498681, \"longitude\": -83.769492}, {\"member_id\": 5, \"county\": \"wayne\", \"latitude\": 42.140092, \"longitude\": -83.482888}, {\"member_id\": 6, \"county\": \"wayne\", \"latitude\": 42.445894, \"longitude\": -83.759251}, {\"member_id\": 7, \"county\": \"wayne\", \"latitude\": 42.257778, \"longitude\": -83.568108}, {\"member_id\": 8, \"county\": \"wayne\", \"latitude\": 42.417551, \"longitude\": -83.96278}, {\"member_id\": 9, \"county\": \"wayne\", \"latitude\": 42.212657, \"longitude\": -83.658616}, {\"member_id\": 10, \"county\": \"wayne\", \"latitude\": 42.186797, \"longitude\": -83.688598}, {\"member_id\": 11, \"county\": \"wayne\", \"latitude\": 42.487326, \"longitude\": -83.474229}, {\"member_id\": 12, \"county\": \"wayne\", \"latitude\": 42.250161, \"longitude\": -83.477988}, {\"member_id\": 13, \"county\": \"wayne\", \"latitude\": 42.13799, \"longitude\": -83.811478}, {\"member_id\": 14, \"county\": \"wayne\", \"latitude\": 42.35229, \"longitude\": -83.906037}, {\"member_id\": 15, \"county\": \"wayne\", \"latitude\": 42.043078, \"longitude\": -83.8271}, {\"member_id\": 16, \"county\": \"wayne\", \"latitude\": 42.311555, \"longitude\": -83.844441}, {\"member_id\": 17, \"county\": \"wayne\", \"latitude\": 42.374057, \"longitude\": -83.993698}, {\"member_id\": 18, \"county\": \"wayne\", \"latitude\": 42.393791, \"longitude\": -83.985835}, {\"member_id\": 19, \"county\": \"wayne\", \"latitude\": 42.115473, \"longitude\": -83.623409}, {\"member_id\": 20, \"county\": \"wayne\", \"latitude\": 42.182635, \"longitude\": -83.740214}, {\"member_id\": 21, \"county\": \"wayne\", \"latitude\": 42.219362, \"longitude\": -83.847599}, {\"member_id\": 22, \"county\": \"wayne\", \"latitude\": 42.451611, \"longitude\": -83.472322}, {\"member_id\": 23, \"county\": \"wayne\", \"latitude\": 42.403912, \"longitude\": -83.885467}, {\"member_id\": 24, \"county\": \"wayne\", \"latitude\": 42.415026, \"longitude\": -83.613177}, {\"member_id\": 25, \"county\": \"wayne\", \"latitude\": 42.476259, \"longitude\": -83.882409}, {\"member_id\": 26, \"county\": \"wayne\", \"latitude\": 42.047468, \"longitude\": -83.44096}, {\"member_id\": 27, \"county\": \"wayne\", \"latitude\": 42.378471, \"longitude\": -83.988195}, {\"member_id\": 28, \"county\": \"wayne\", \"latitude\": 42.18897, \"longitude\": -83.608292}, {\"member_id\": 29, \"county\": \"wayne\", \"latitude\": 42.460913, \"longitude\": -83.897896}, {\"member_id\": 30, \"county\": \"wayne\", \"latitude\": 42.231045, \"longitude\": -83.865835}, {\"member_id\": 31, \"county\": \"wayne\", \"latitude\": 42.294137, \"longitude\": -83.632281}, {\"member_id\": 32, \"county\": \"wayne\", \"latitude\": 42.108687, \"longitude\": -83.768402}, {\"member_id\": 33, \"county\": \"wayne\", \"latitude\": 42.045376, \"longitude\": -83.62198}, {\"member_id\": 34, \"county\": \"wayne\", \"latitude\": 42.163457, \"longitude\": -83.959262}, {\"member_id\": 35, \"county\": \"wayne\", \"latitude\": 42.088231, \"longitude\": -83.806898}, {\"member_id\": 36, \"county\": \"wayne\", \"latitude\": 42.283061, \"longitude\": -83.579052}, {\"member_id\": 37, \"county\": \"wayne\", \"latitude\": 42.006089, \"longitude\": -83.545845}, {\"member_id\": 38, \"county\": \"wayne\", \"latitude\": 42.449946, \"longitude\": -83.942657}, {\"member_id\": 39, \"county\": \"wayne\", \"latitude\": 42.100664, \"longitude\": -83.85996}, {\"member_id\": 40, \"county\": \"wayne\", \"latitude\": 42.201844, \"longitude\": -83.595169}, {\"member_id\": 41, \"county\": \"wayne\", \"latitude\": 42.097823, \"longitude\": -83.686809}, {\"member_id\": 42, \"county\": \"wayne\", \"latitude\": 42.158983, \"longitude\": -83.645591}, {\"member_id\": 43, \"county\": \"wayne\", \"latitude\": 42.477286, \"longitude\": -83.851157}, {\"member_id\": 44, \"county\": \"wayne\", \"latitude\": 42.369195, \"longitude\": -83.74845}, {\"member_id\": 45, \"county\": \"wayne\", \"latitude\": 42.374684, \"longitude\": -83.625696}, {\"member_id\": 46, \"county\": \"wayne\", \"latitude\": 42.252379, \"longitude\": -83.605469}, {\"member_id\": 47, \"county\": \"wayne\", \"latitude\": 42.325848, \"longitude\": -83.960337}, {\"member_id\": 48, \"county\": \"wayne\", \"latitude\": 42.36713, \"longitude\": -83.494577}, {\"member_id\": 49, \"county\": \"wayne\", \"latitude\": 42.059139, \"longitude\": -83.991004}, {\"member_id\": 50, \"county\": \"wayne\", \"latitude\": 42.186198, \"longitude\": -83.821961}, {\"member_id\": 51, \"county\": \"wayne\", \"latitude\": 42.488236, \"longitude\": -83.807698}, {\"member_id\": 52, \"county\": \"wayne\", \"latitude\": 42.269734, \"longitude\": -83.803352}, {\"member_id\": 53, \"county\": \"wayne\", \"latitude\": 42.220504, \"longitude\": -83.716802}, {\"member_id\": 54, \"county\": \"wayne\", \"latitude\": 42.236533, \"longitude\": -83.761497}, {\"member_id\": 55, \"county\": \"wayne\", \"latitude\": 42.081732, \"longitude\": -83.804774}, {\"member_id\": 56, \"county\": \"wayne\", \"latitude\": 42.09599, \"longitude\": -83.924139}, {\"member_id\": 57, \"county\": \"wayne\", \"latitude\": 42.067323, \"longitude\": -83.770316}, {\"member_id\": 58, \"county\": \"wayne\", \"latitude\": 42.190799, \"longitude\": -83.850031}, {\"member_id\": 59, \"county\": \"wayne\", \"latitude\": 42.078224, \"longitude\": -83.447615}, {\"member_id\": 60, \"county\": \"wayne\", \"latitude\": 42.469456, \"longitude\": -83.976177}, {\"member_id\": 61, \"county\": \"wayne\", \"latitude\": 42.130302, \"longitude\": -83.515166}, {\"member_id\": 62, \"county\": \"wayne\", \"latitude\": 42.440388, \"longitude\": -83.676659}, {\"member_id\": 63, \"county\": \"wayne\", \"latitude\": 42.032412, \"longitude\": -83.503076}, {\"member_id\": 64, \"county\": \"wayne\", \"latitude\": 42.295255, \"longitude\": -83.658838}, {\"member_id\": 65, \"county\": \"wayne\", \"latitude\": 42.076549, \"longitude\": -83.959064}, {\"member_id\": 66, \"county\": \"wayne\", \"latitude\": 42.297326, \"longitude\": -83.653161}, {\"member_id\": 67, \"county\": \"wayne\", \"latitude\": 42.033304, \"longitude\": -83.503068}, {\"member_id\": 68, \"county\": \"wayne\", \"latitude\": 42.384044, \"longitude\": -83.732767}, {\"member_id\": 69, \"county\": \"wayne\", \"latitude\": 42.123454, \"longitude\": -83.525551}, {\"member_id\": 70, \"county\": \"wayne\", \"latitude\": 42.151605, \"longitude\": -83.959522}, {\"member_id\": 71, \"county\": \"wayne\", \"latitude\": 42.111249, \"longitude\": -83.41037}, {\"member_id\": 72, \"county\": \"wayne\", \"latitude\": 42.050326, \"longitude\": -83.997097}, {\"member_id\": 73, \"county\": \"wayne\", \"latitude\": 42.235321, \"longitude\": -83.474875}, {\"member_id\": 74, \"county\": \"wayne\", \"latitude\": 42.278834, \"longitude\": -83.947849}, {\"member_id\": 75, \"county\": \"wayne\", \"latitude\": 42.356062, \"longitude\": -83.899858}, {\"member_id\": 76, \"county\": \"wayne\", \"latitude\": 42.036486, \"longitude\": -83.895721}, {\"member_id\": 77, \"county\": \"wayne\", \"latitude\": 42.480489, \"longitude\": -83.562145}, {\"member_id\": 78, \"county\": \"wayne\", \"latitude\": 42.33123, \"longitude\": -83.98107}, {\"member_id\": 79, \"county\": \"wayne\", \"latitude\": 42.384779, \"longitude\": -83.476149}, {\"member_id\": 80, \"county\": \"wayne\", \"latitude\": 42.317622, \"longitude\": -83.590615}, {\"member_id\": 81, \"county\": \"wayne\", \"latitude\": 42.318708, \"longitude\": -83.788707}, {\"member_id\": 82, \"county\": \"wayne\", \"latitude\": 42.161516, \"longitude\": -83.996323}, {\"member_id\": 83, \"county\": \"wayne\", \"latitude\": 42.078992, \"longitude\": -83.81614}, {\"member_id\": 84, \"county\": \"wayne\", \"latitude\": 42.241076, \"longitude\": -83.49563}, {\"member_id\": 85, \"county\": \"wayne\", \"latitude\": 42.077417, \"longitude\": -83.706996}, {\"member_id\": 86, \"county\": \"wayne\", \"latitude\": 42.092637, \"longitude\": -83.846321}, {\"member_id\": 87, \"county\": \"wayne\", \"latitude\": 42.23038, \"longitude\": -83.670178}, {\"member_id\": 88, \"county\": \"wayne\", \"latitude\": 42.145401, \"longitude\": -83.993555}, {\"member_id\": 89, \"county\": \"wayne\", \"latitude\": 42.073886, \"longitude\": -83.403799}, {\"member_id\": 90, \"county\": \"wayne\", \"latitude\": 42.240345, \"longitude\": -83.422301}, {\"member_id\": 91, \"county\": \"wayne\", \"latitude\": 42.014439, \"longitude\": -83.720722}, {\"member_id\": 92, \"county\": \"wayne\", \"latitude\": 42.302746, \"longitude\": -83.451715}, {\"member_id\": 93, \"county\": \"wayne\", \"latitude\": 42.312189, \"longitude\": -83.666444}, {\"member_id\": 94, \"county\": \"wayne\", \"latitude\": 42.373911, \"longitude\": -83.759577}, {\"member_id\": 95, \"county\": \"wayne\", \"latitude\": 42.378711, \"longitude\": -83.756098}, {\"member_id\": 96, \"county\": \"wayne\", \"latitude\": 42.011904, \"longitude\": -83.400973}, {\"member_id\": 97, \"county\": \"wayne\", \"latitude\": 42.317908, \"longitude\": -83.609344}, {\"member_id\": 98, \"county\": \"wayne\", \"latitude\": 42.160795, \"longitude\": -83.987857}, {\"member_id\": 99, \"county\": \"wayne\", \"latitude\": 42.379503, \"longitude\": -83.49692}, {\"member_id\": 100, \"county\": \"wayne\", \"latitude\": 42.267898, \"longitude\": -83.864263}], \"data-5fa71b723c249b30a9fdaebac34ba646\": [{\"npi\": 26, \"specialty\": \"cardiologist\", \"group_id\": 8, \"efficiency\": 4, \"effectiveness\": 4, \"location_id\": 0, \"county\": \"wayne\", \"latitude\": 42.134654, \"longitude\": -83.471054}, {\"npi\": 18, \"specialty\": \"ent\", \"group_id\": 11, \"efficiency\": 4, \"effectiveness\": 2, \"location_id\": 1, \"county\": \"wayne\", \"latitude\": 42.022093, \"longitude\": -83.403927}, {\"npi\": 20, \"specialty\": \"urologist\", \"group_id\": 4, \"efficiency\": 2, \"effectiveness\": 1, \"location_id\": 2, \"county\": \"wayne\", \"latitude\": 41.982551, \"longitude\": -83.958205}, {\"npi\": 88, \"specialty\": \"pcp\", \"group_id\": 0, \"efficiency\": 4, \"effectiveness\": 2, \"location_id\": 3, \"county\": \"wayne\", \"latitude\": 41.926929, \"longitude\": -83.711279}, {\"npi\": 98, \"specialty\": \"ent\", \"group_id\": 14, \"efficiency\": 5, \"effectiveness\": 1, \"location_id\": 4, \"county\": \"wayne\", \"latitude\": 42.043606, \"longitude\": -83.561243}, {\"npi\": 11, \"specialty\": \"cardiologist\", \"group_id\": 1, \"efficiency\": 3, \"effectiveness\": 4, \"location_id\": 5, \"county\": \"wayne\", \"latitude\": 42.348281, \"longitude\": -83.922526}, {\"npi\": 62, \"specialty\": \"obgyn\", \"group_id\": 2, \"efficiency\": 1, \"effectiveness\": 1, \"location_id\": 6, \"county\": \"wayne\", \"latitude\": 42.026409, \"longitude\": -83.952905}, {\"npi\": 59, \"specialty\": \"cardiologist\", \"group_id\": 14, \"efficiency\": 3, \"effectiveness\": 3, \"location_id\": 7, \"county\": \"wayne\", \"latitude\": 42.287204, \"longitude\": -83.955644}, {\"npi\": 90, \"specialty\": \"urologist\", \"group_id\": 2, \"efficiency\": 1, \"effectiveness\": 2, \"location_id\": 8, \"county\": \"wayne\", \"latitude\": 42.381288, \"longitude\": -83.522184}, {\"npi\": 88, \"specialty\": \"pcp\", \"group_id\": 0, \"efficiency\": 4, \"effectiveness\": 2, \"location_id\": 9, \"county\": \"wayne\", \"latitude\": 42.35168, \"longitude\": -83.548019}, {\"npi\": 9, \"specialty\": \"cardiologist\", \"group_id\": 2, \"efficiency\": 3, \"effectiveness\": 1, \"location_id\": 10, \"county\": \"wayne\", \"latitude\": 42.170324, \"longitude\": -83.986664}, {\"npi\": 82, \"specialty\": \"obgyn\", \"group_id\": 0, \"efficiency\": 5, \"effectiveness\": 2, \"location_id\": 11, \"county\": \"wayne\", \"latitude\": 42.295914, \"longitude\": -83.910646}, {\"npi\": 55, \"specialty\": \"urologist\", \"group_id\": 1, \"efficiency\": 1, \"effectiveness\": 2, \"location_id\": 12, \"county\": \"wayne\", \"latitude\": 41.9958, \"longitude\": -83.987301}, {\"npi\": 80, \"specialty\": \"cardiologist\", \"group_id\": 7, \"efficiency\": 3, \"effectiveness\": 1, \"location_id\": 13, \"county\": \"wayne\", \"latitude\": 42.289574, \"longitude\": -83.609854}, {\"npi\": 75, \"specialty\": \"obgyn\", \"group_id\": 8, \"efficiency\": 5, \"effectiveness\": 1, \"location_id\": 14, \"county\": \"wayne\", \"latitude\": 42.206723, \"longitude\": -83.578398}, {\"npi\": 76, \"specialty\": \"obgyn\", \"group_id\": 1, \"efficiency\": 5, \"effectiveness\": 3, \"location_id\": 15, \"county\": \"wayne\", \"latitude\": 42.026822, \"longitude\": -83.445379}, {\"npi\": 21, \"specialty\": \"obgyn\", \"group_id\": 0, \"efficiency\": 1, \"effectiveness\": 1, \"location_id\": 16, \"county\": \"wayne\", \"latitude\": 42.280225, \"longitude\": -83.856336}, {\"npi\": 25, \"specialty\": \"pcp\", \"group_id\": 7, \"efficiency\": 5, \"effectiveness\": 2, \"location_id\": 17, \"county\": \"wayne\", \"latitude\": 42.386243, \"longitude\": -83.551074}, {\"npi\": 66, \"specialty\": \"obgyn\", \"group_id\": 14, \"efficiency\": 1, \"effectiveness\": 5, \"location_id\": 18, \"county\": \"wayne\", \"latitude\": 41.974419, \"longitude\": -83.944082}, {\"npi\": 87, \"specialty\": \"cardiologist\", \"group_id\": 14, \"efficiency\": 3, \"effectiveness\": 1, \"location_id\": 19, \"county\": \"wayne\", \"latitude\": 42.265969, \"longitude\": -83.485181}, {\"npi\": 9, \"specialty\": \"cardiologist\", \"group_id\": 2, \"efficiency\": 3, \"effectiveness\": 1, \"location_id\": 20, \"county\": \"wayne\", \"latitude\": 41.964417, \"longitude\": -83.446411}, {\"npi\": 68, \"specialty\": \"cardiologist\", \"group_id\": 7, \"efficiency\": 4, \"effectiveness\": 5, \"location_id\": 21, \"county\": \"wayne\", \"latitude\": 42.210294, \"longitude\": -83.72648}, {\"npi\": 3, \"specialty\": \"cardiologist\", \"group_id\": 2, \"efficiency\": 4, \"effectiveness\": 2, \"location_id\": 22, \"county\": \"wayne\", \"latitude\": 41.925984, \"longitude\": -83.873297}, {\"npi\": 49, \"specialty\": \"cardiologist\", \"group_id\": 10, \"efficiency\": 4, \"effectiveness\": 3, \"location_id\": 23, \"county\": \"wayne\", \"latitude\": 41.918344, \"longitude\": -83.74184}, {\"npi\": 10, \"specialty\": \"ent\", \"group_id\": 14, \"efficiency\": 3, \"effectiveness\": 5, \"location_id\": 24, \"county\": \"wayne\", \"latitude\": 42.362942, \"longitude\": -83.774067}, {\"npi\": 1, \"specialty\": \"cardiologist\", \"group_id\": 1, \"efficiency\": 4, \"effectiveness\": 1, \"location_id\": 25, \"county\": \"wayne\", \"latitude\": 42.346124, \"longitude\": -83.614459}, {\"npi\": 96, \"specialty\": \"pcp\", \"group_id\": 7, \"efficiency\": 2, \"effectiveness\": 1, \"location_id\": 26, \"county\": \"wayne\", \"latitude\": 42.329326, \"longitude\": -83.509139}, {\"npi\": 83, \"specialty\": \"cardiologist\", \"group_id\": 9, \"efficiency\": 2, \"effectiveness\": 3, \"location_id\": 27, \"county\": \"wayne\", \"latitude\": 41.93486, \"longitude\": -83.997288}, {\"npi\": 47, \"specialty\": \"pcp\", \"group_id\": 10, \"efficiency\": 1, \"effectiveness\": 5, \"location_id\": 28, \"county\": \"wayne\", \"latitude\": 42.052201, \"longitude\": -83.798545}, {\"npi\": 70, \"specialty\": \"urologist\", \"group_id\": 11, \"efficiency\": 4, \"effectiveness\": 4, \"location_id\": 29, \"county\": \"wayne\", \"latitude\": 42.216112, \"longitude\": -83.485948}, {\"npi\": 24, \"specialty\": \"obgyn\", \"group_id\": 2, \"efficiency\": 5, \"effectiveness\": 4, \"location_id\": 30, \"county\": \"wayne\", \"latitude\": 41.914848, \"longitude\": -83.597816}, {\"npi\": 58, \"specialty\": \"ent\", \"group_id\": 9, \"efficiency\": 4, \"effectiveness\": 2, \"location_id\": 31, \"county\": \"wayne\", \"latitude\": 42.370332, \"longitude\": -83.893646}, {\"npi\": 11, \"specialty\": \"cardiologist\", \"group_id\": 1, \"efficiency\": 3, \"effectiveness\": 4, \"location_id\": 32, \"county\": \"wayne\", \"latitude\": 42.250873, \"longitude\": -83.620493}, {\"npi\": 81, \"specialty\": \"obgyn\", \"group_id\": 6, \"efficiency\": 5, \"effectiveness\": 3, \"location_id\": 33, \"county\": \"wayne\", \"latitude\": 42.300979, \"longitude\": -83.648522}, {\"npi\": 91, \"specialty\": \"pcp\", \"group_id\": 5, \"efficiency\": 1, \"effectiveness\": 3, \"location_id\": 34, \"county\": \"wayne\", \"latitude\": 42.113007, \"longitude\": -83.691371}, {\"npi\": 83, \"specialty\": \"cardiologist\", \"group_id\": 9, \"efficiency\": 2, \"effectiveness\": 3, \"location_id\": 35, \"county\": \"wayne\", \"latitude\": 42.001743, \"longitude\": -83.475032}, {\"npi\": 36, \"specialty\": \"pcp\", \"group_id\": 9, \"efficiency\": 2, \"effectiveness\": 3, \"location_id\": 36, \"county\": \"wayne\", \"latitude\": 42.086087, \"longitude\": -83.549795}, {\"npi\": 73, \"specialty\": \"obgyn\", \"group_id\": 4, \"efficiency\": 3, \"effectiveness\": 4, \"location_id\": 37, \"county\": \"wayne\", \"latitude\": 42.251059, \"longitude\": -83.799889}, {\"npi\": 99, \"specialty\": \"obgyn\", \"group_id\": 1, \"efficiency\": 4, \"effectiveness\": 5, \"location_id\": 38, \"county\": \"wayne\", \"latitude\": 42.249265, \"longitude\": -83.680295}, {\"npi\": 62, \"specialty\": \"obgyn\", \"group_id\": 2, \"efficiency\": 1, \"effectiveness\": 1, \"location_id\": 39, \"county\": \"wayne\", \"latitude\": 42.295178, \"longitude\": -83.644226}, {\"npi\": 36, \"specialty\": \"pcp\", \"group_id\": 9, \"efficiency\": 2, \"effectiveness\": 3, \"location_id\": 40, \"county\": \"wayne\", \"latitude\": 42.022105, \"longitude\": -83.75222}, {\"npi\": 70, \"specialty\": \"urologist\", \"group_id\": 11, \"efficiency\": 4, \"effectiveness\": 4, \"location_id\": 41, \"county\": \"wayne\", \"latitude\": 42.349454, \"longitude\": -83.410016}, {\"npi\": 78, \"specialty\": \"urologist\", \"group_id\": 14, \"efficiency\": 3, \"effectiveness\": 2, \"location_id\": 42, \"county\": \"wayne\", \"latitude\": 42.382471, \"longitude\": -83.697633}, {\"npi\": 23, \"specialty\": \"pcp\", \"group_id\": 10, \"efficiency\": 2, \"effectiveness\": 5, \"location_id\": 43, \"county\": \"wayne\", \"latitude\": 42.033623, \"longitude\": -83.732888}, {\"npi\": 63, \"specialty\": \"cardiologist\", \"group_id\": 4, \"efficiency\": 5, \"effectiveness\": 2, \"location_id\": 44, \"county\": \"wayne\", \"latitude\": 42.371067, \"longitude\": -83.866393}, {\"npi\": 11, \"specialty\": \"cardiologist\", \"group_id\": 1, \"efficiency\": 3, \"effectiveness\": 4, \"location_id\": 45, \"county\": \"wayne\", \"latitude\": 42.06283, \"longitude\": -83.421479}, {\"npi\": 22, \"specialty\": \"pcp\", \"group_id\": 6, \"efficiency\": 1, \"effectiveness\": 4, \"location_id\": 46, \"county\": \"wayne\", \"latitude\": 42.080888, \"longitude\": -83.624409}, {\"npi\": 23, \"specialty\": \"pcp\", \"group_id\": 10, \"efficiency\": 2, \"effectiveness\": 5, \"location_id\": 47, \"county\": \"wayne\", \"latitude\": 42.099236, \"longitude\": -83.565431}, {\"npi\": 12, \"specialty\": \"cardiologist\", \"group_id\": 5, \"efficiency\": 4, \"effectiveness\": 5, \"location_id\": 48, \"county\": \"wayne\", \"latitude\": 41.916902, \"longitude\": -83.699497}, {\"npi\": 87, \"specialty\": \"cardiologist\", \"group_id\": 14, \"efficiency\": 3, \"effectiveness\": 1, \"location_id\": 49, \"county\": \"wayne\", \"latitude\": 42.37877, \"longitude\": -83.833668}, {\"npi\": 41, \"specialty\": \"obgyn\", \"group_id\": 10, \"efficiency\": 1, \"effectiveness\": 4, \"location_id\": 50, \"county\": \"wayne\", \"latitude\": 41.951197, \"longitude\": -83.463837}, {\"npi\": 83, \"specialty\": \"cardiologist\", \"group_id\": 9, \"efficiency\": 2, \"effectiveness\": 3, \"location_id\": 51, \"county\": \"wayne\", \"latitude\": 42.346426, \"longitude\": -83.732028}, {\"npi\": 41, \"specialty\": \"obgyn\", \"group_id\": 10, \"efficiency\": 1, \"effectiveness\": 4, \"location_id\": 52, \"county\": \"wayne\", \"latitude\": 41.9372, \"longitude\": -83.646819}, {\"npi\": 91, \"specialty\": \"pcp\", \"group_id\": 5, \"efficiency\": 1, \"effectiveness\": 3, \"location_id\": 53, \"county\": \"wayne\", \"latitude\": 41.98086, \"longitude\": -83.706488}, {\"npi\": 37, \"specialty\": \"obgyn\", \"group_id\": 10, \"efficiency\": 4, \"effectiveness\": 4, \"location_id\": 54, \"county\": \"wayne\", \"latitude\": 42.180853, \"longitude\": -83.74322}, {\"npi\": 23, \"specialty\": \"pcp\", \"group_id\": 10, \"efficiency\": 2, \"effectiveness\": 5, \"location_id\": 55, \"county\": \"wayne\", \"latitude\": 42.212946, \"longitude\": -83.636681}, {\"npi\": 9, \"specialty\": \"cardiologist\", \"group_id\": 2, \"efficiency\": 3, \"effectiveness\": 1, \"location_id\": 56, \"county\": \"wayne\", \"latitude\": 42.260059, \"longitude\": -83.557456}, {\"npi\": 11, \"specialty\": \"cardiologist\", \"group_id\": 1, \"efficiency\": 3, \"effectiveness\": 4, \"location_id\": 57, \"county\": \"wayne\", \"latitude\": 41.919776, \"longitude\": -83.989813}, {\"npi\": 7, \"specialty\": \"pcp\", \"group_id\": 12, \"efficiency\": 4, \"effectiveness\": 5, \"location_id\": 58, \"county\": \"wayne\", \"latitude\": 42.387338, \"longitude\": -83.803409}, {\"npi\": 92, \"specialty\": \"ent\", \"group_id\": 10, \"efficiency\": 2, \"effectiveness\": 1, \"location_id\": 59, \"county\": \"wayne\", \"latitude\": 42.208725, \"longitude\": -83.945167}, {\"npi\": 21, \"specialty\": \"obgyn\", \"group_id\": 0, \"efficiency\": 1, \"effectiveness\": 1, \"location_id\": 60, \"county\": \"wayne\", \"latitude\": 42.354053, \"longitude\": -83.583212}, {\"npi\": 64, \"specialty\": \"urologist\", \"group_id\": 11, \"efficiency\": 2, \"effectiveness\": 2, \"location_id\": 61, \"county\": \"wayne\", \"latitude\": 42.339796, \"longitude\": -83.784508}, {\"npi\": 6, \"specialty\": \"cardiologist\", \"group_id\": 11, \"efficiency\": 1, \"effectiveness\": 5, \"location_id\": 62, \"county\": \"wayne\", \"latitude\": 42.161596, \"longitude\": -83.697362}, {\"npi\": 37, \"specialty\": \"obgyn\", \"group_id\": 10, \"efficiency\": 4, \"effectiveness\": 4, \"location_id\": 63, \"county\": \"wayne\", \"latitude\": 42.260168, \"longitude\": -83.85229}, {\"npi\": 45, \"specialty\": \"cardiologist\", \"group_id\": 4, \"efficiency\": 4, \"effectiveness\": 2, \"location_id\": 64, \"county\": \"wayne\", \"latitude\": 41.903402, \"longitude\": -83.68171}, {\"npi\": 7, \"specialty\": \"pcp\", \"group_id\": 12, \"efficiency\": 4, \"effectiveness\": 5, \"location_id\": 65, \"county\": \"wayne\", \"latitude\": 42.050041, \"longitude\": -83.642283}, {\"npi\": 25, \"specialty\": \"pcp\", \"group_id\": 7, \"efficiency\": 5, \"effectiveness\": 2, \"location_id\": 66, \"county\": \"wayne\", \"latitude\": 42.370507, \"longitude\": -83.955897}, {\"npi\": 6, \"specialty\": \"cardiologist\", \"group_id\": 11, \"efficiency\": 1, \"effectiveness\": 5, \"location_id\": 67, \"county\": \"wayne\", \"latitude\": 42.068609, \"longitude\": -83.939615}, {\"npi\": 14, \"specialty\": \"cardiologist\", \"group_id\": 10, \"efficiency\": 3, \"effectiveness\": 4, \"location_id\": 68, \"county\": \"wayne\", \"latitude\": 41.9503, \"longitude\": -83.969623}, {\"npi\": 74, \"specialty\": \"ent\", \"group_id\": 13, \"efficiency\": 2, \"effectiveness\": 1, \"location_id\": 69, \"county\": \"wayne\", \"latitude\": 42.117535, \"longitude\": -83.66374}, {\"npi\": 36, \"specialty\": \"pcp\", \"group_id\": 9, \"efficiency\": 2, \"effectiveness\": 3, \"location_id\": 70, \"county\": \"wayne\", \"latitude\": 41.990355, \"longitude\": -83.858494}, {\"npi\": 2, \"specialty\": \"cardiologist\", \"group_id\": 0, \"efficiency\": 3, \"effectiveness\": 3, \"location_id\": 71, \"county\": \"wayne\", \"latitude\": 42.202388, \"longitude\": -83.572741}, {\"npi\": 39, \"specialty\": \"pcp\", \"group_id\": 2, \"efficiency\": 4, \"effectiveness\": 4, \"location_id\": 72, \"county\": \"wayne\", \"latitude\": 42.197948, \"longitude\": -83.612645}, {\"npi\": 52, \"specialty\": \"obgyn\", \"group_id\": 3, \"efficiency\": 5, \"effectiveness\": 2, \"location_id\": 73, \"county\": \"wayne\", \"latitude\": 42.091906, \"longitude\": -83.564623}, {\"npi\": 97, \"specialty\": \"ent\", \"group_id\": 2, \"efficiency\": 2, \"effectiveness\": 2, \"location_id\": 74, \"county\": \"wayne\", \"latitude\": 41.921881, \"longitude\": -83.986278}, {\"npi\": 80, \"specialty\": \"cardiologist\", \"group_id\": 7, \"efficiency\": 3, \"effectiveness\": 1, \"location_id\": 75, \"county\": \"wayne\", \"latitude\": 42.192251, \"longitude\": -83.741654}, {\"npi\": 69, \"specialty\": \"obgyn\", \"group_id\": 13, \"efficiency\": 3, \"effectiveness\": 5, \"location_id\": 76, \"county\": \"wayne\", \"latitude\": 42.071814, \"longitude\": -83.485093}, {\"npi\": 57, \"specialty\": \"urologist\", \"group_id\": 14, \"efficiency\": 2, \"effectiveness\": 4, \"location_id\": 77, \"county\": \"wayne\", \"latitude\": 42.292187, \"longitude\": -83.433722}, {\"npi\": 74, \"specialty\": \"ent\", \"group_id\": 13, \"efficiency\": 2, \"effectiveness\": 1, \"location_id\": 78, \"county\": \"wayne\", \"latitude\": 42.280277, \"longitude\": -83.737381}, {\"npi\": 59, \"specialty\": \"cardiologist\", \"group_id\": 14, \"efficiency\": 3, \"effectiveness\": 3, \"location_id\": 79, \"county\": \"wayne\", \"latitude\": 42.340305, \"longitude\": -83.715873}, {\"npi\": 31, \"specialty\": \"cardiologist\", \"group_id\": 6, \"efficiency\": 5, \"effectiveness\": 1, \"location_id\": 80, \"county\": \"wayne\", \"latitude\": 42.194337, \"longitude\": -83.481047}, {\"npi\": 57, \"specialty\": \"urologist\", \"group_id\": 14, \"efficiency\": 2, \"effectiveness\": 4, \"location_id\": 81, \"county\": \"wayne\", \"latitude\": 42.346576, \"longitude\": -83.462248}, {\"npi\": 51, \"specialty\": \"pcp\", \"group_id\": 11, \"efficiency\": 5, \"effectiveness\": 5, \"location_id\": 82, \"county\": \"wayne\", \"latitude\": 42.218855, \"longitude\": -83.718246}, {\"npi\": 37, \"specialty\": \"obgyn\", \"group_id\": 10, \"efficiency\": 4, \"effectiveness\": 4, \"location_id\": 83, \"county\": \"wayne\", \"latitude\": 42.022725, \"longitude\": -83.728729}, {\"npi\": 95, \"specialty\": \"obgyn\", \"group_id\": 4, \"efficiency\": 4, \"effectiveness\": 3, \"location_id\": 84, \"county\": \"wayne\", \"latitude\": 42.054496, \"longitude\": -83.981905}, {\"npi\": 67, \"specialty\": \"ent\", \"group_id\": 9, \"efficiency\": 5, \"effectiveness\": 1, \"location_id\": 85, \"county\": \"wayne\", \"latitude\": 42.241194, \"longitude\": -83.41924}, {\"npi\": 68, \"specialty\": \"cardiologist\", \"group_id\": 7, \"efficiency\": 4, \"effectiveness\": 5, \"location_id\": 86, \"county\": \"wayne\", \"latitude\": 42.347955, \"longitude\": -83.85259}, {\"npi\": 45, \"specialty\": \"cardiologist\", \"group_id\": 4, \"efficiency\": 4, \"effectiveness\": 2, \"location_id\": 87, \"county\": \"wayne\", \"latitude\": 41.989902, \"longitude\": -83.702354}, {\"npi\": 18, \"specialty\": \"ent\", \"group_id\": 11, \"efficiency\": 4, \"effectiveness\": 2, \"location_id\": 88, \"county\": \"wayne\", \"latitude\": 42.016477, \"longitude\": -83.497318}, {\"npi\": 11, \"specialty\": \"cardiologist\", \"group_id\": 1, \"efficiency\": 3, \"effectiveness\": 4, \"location_id\": 89, \"county\": \"wayne\", \"latitude\": 42.117557, \"longitude\": -83.958529}, {\"npi\": 23, \"specialty\": \"pcp\", \"group_id\": 10, \"efficiency\": 2, \"effectiveness\": 5, \"location_id\": 90, \"county\": \"wayne\", \"latitude\": 42.348255, \"longitude\": -83.699744}, {\"npi\": 49, \"specialty\": \"cardiologist\", \"group_id\": 10, \"efficiency\": 4, \"effectiveness\": 3, \"location_id\": 91, \"county\": \"wayne\", \"latitude\": 42.261574, \"longitude\": -83.588179}, {\"npi\": 86, \"specialty\": \"cardiologist\", \"group_id\": 14, \"efficiency\": 4, \"effectiveness\": 1, \"location_id\": 92, \"county\": \"wayne\", \"latitude\": 42.193847, \"longitude\": -83.405533}, {\"npi\": 36, \"specialty\": \"pcp\", \"group_id\": 9, \"efficiency\": 2, \"effectiveness\": 3, \"location_id\": 93, \"county\": \"wayne\", \"latitude\": 42.37861, \"longitude\": -83.497928}, {\"npi\": 31, \"specialty\": \"cardiologist\", \"group_id\": 6, \"efficiency\": 5, \"effectiveness\": 1, \"location_id\": 94, \"county\": \"wayne\", \"latitude\": 42.193774, \"longitude\": -83.739306}, {\"npi\": 23, \"specialty\": \"pcp\", \"group_id\": 10, \"efficiency\": 2, \"effectiveness\": 5, \"location_id\": 95, \"county\": \"wayne\", \"latitude\": 42.177208, \"longitude\": -83.953676}, {\"npi\": 94, \"specialty\": \"cardiologist\", \"group_id\": 14, \"efficiency\": 5, \"effectiveness\": 4, \"location_id\": 96, \"county\": \"wayne\", \"latitude\": 42.007316, \"longitude\": -83.4735}, {\"npi\": 16, \"specialty\": \"urologist\", \"group_id\": 2, \"efficiency\": 4, \"effectiveness\": 4, \"location_id\": 97, \"county\": \"wayne\", \"latitude\": 42.008868, \"longitude\": -83.433265}, {\"npi\": 50, \"specialty\": \"pcp\", \"group_id\": 5, \"efficiency\": 4, \"effectiveness\": 4, \"location_id\": 98, \"county\": \"wayne\", \"latitude\": 42.240944, \"longitude\": -83.767644}, {\"npi\": 48, \"specialty\": \"pcp\", \"group_id\": 14, \"efficiency\": 5, \"effectiveness\": 5, \"location_id\": 99, \"county\": \"wayne\", \"latitude\": 42.251479, \"longitude\": -83.798828}]}}, {\"mode\": \"vega-lite\"});\n",
       "</script>"
      ],
      "text/plain": [
       "alt.LayerChart(...)"
      ]
     },
     "execution_count": 5,
     "metadata": {},
     "output_type": "execute_result"
    }
   ],
   "source": [
    "states = alt.topo_feature(data.us_10m.url, feature='states')\n",
    "# airports = data.airports()\n",
    "\n",
    "background = alt.Chart(states).mark_geoshape(\n",
    "    fill='lightgray',\n",
    "    stroke='white'\n",
    ").project('albersUsa').properties(\n",
    "    width=2000,\n",
    "    height=1000\n",
    ")\n",
    "\n",
    "members = alt.Chart(synth_members.loc[0:100]).mark_circle(color=\"red\").encode(\n",
    "    longitude='longitude:Q',\n",
    "    latitude='latitude:Q',\n",
    "    size=alt.value(0.5),\n",
    ")\n",
    "\n",
    "providers = alt.Chart(synth_network.loc[0:100]).mark_circle(color=\"blue\").encode(\n",
    "    longitude='longitude:Q',\n",
    "    latitude='latitude:Q',\n",
    "    size=alt.value(0.5),\n",
    ")\n",
    "\n",
    "background + members + providers"
   ]
  },
  {
   "cell_type": "code",
   "execution_count": null,
   "metadata": {},
   "outputs": [],
   "source": []
  }
 ],
 "metadata": {
  "kernelspec": {
   "display_name": "base",
   "language": "python",
   "name": "python3"
  },
  "language_info": {
   "codemirror_mode": {
    "name": "ipython",
    "version": 3
   },
   "file_extension": ".py",
   "mimetype": "text/x-python",
   "name": "python",
   "nbconvert_exporter": "python",
   "pygments_lexer": "ipython3",
   "version": "3.7.16"
  }
 },
 "nbformat": 4,
 "nbformat_minor": 2
}
