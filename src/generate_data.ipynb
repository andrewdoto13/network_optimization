{
 "cells": [
  {
   "cell_type": "markdown",
   "metadata": {},
   "source": [
    "## Import libraries"
   ]
  },
  {
   "cell_type": "code",
   "execution_count": 1,
   "metadata": {},
   "outputs": [],
   "source": [
    "import synthetic_data_generators as sdg\n",
    "import numpy as np\n",
    "import pandas as pd\n",
    "import altair as alt\n",
    "from vega_datasets import data"
   ]
  },
  {
   "cell_type": "markdown",
   "metadata": {},
   "source": [
    "## Generate data"
   ]
  },
  {
   "cell_type": "code",
   "execution_count": 2,
   "metadata": {},
   "outputs": [],
   "source": [
    "NUM_PROVIDERS = 100\n",
    "NUM_LOCATIONS = 100\n",
    "NUM_GROUPS = 15\n",
    "SPECIALTIES = [\"cardiologist\", \"pcp\", \"ent\", \"urologist\", \"obgyn\"]\n",
    "COUNTY = \"wayne\"\n",
    "MEMBER_SIZE = 1000\n",
    "MIN_LATITUDE = 42000000 #42.015438\n",
    "MAX_LATITUDE = 42500000 #42.481365\n",
    "MIN_LONGITUDE = -84000000 #-83.566956\n",
    "MAX_LONGITUDE = -83400000 #-82.628043"
   ]
  },
  {
   "cell_type": "code",
   "execution_count": 3,
   "metadata": {},
   "outputs": [],
   "source": [
    "synth_network = sdg.generate_providers(NUM_PROVIDERS, \n",
    "                                       NUM_LOCATIONS, \n",
    "                                       NUM_GROUPS, \n",
    "                                       SPECIALTIES, \n",
    "                                       COUNTY, MIN_LATITUDE-100000, MAX_LATITUDE-100000, MIN_LONGITUDE, MAX_LONGITUDE)\n",
    "\n",
    "synth_pool = sdg.generate_providers(NUM_PROVIDERS, \n",
    "                                       NUM_LOCATIONS, \n",
    "                                       NUM_GROUPS, \n",
    "                                       SPECIALTIES, \n",
    "                                       COUNTY, MIN_LATITUDE-100000, MAX_LATITUDE-100000, MIN_LONGITUDE, MAX_LONGITUDE)\n",
    "\n",
    "synth_members = sdg.generate_members(MEMBER_SIZE, MIN_LATITUDE, MAX_LATITUDE, MIN_LONGITUDE, MAX_LONGITUDE)"
   ]
  },
  {
   "cell_type": "code",
   "execution_count": 6,
   "metadata": {},
   "outputs": [],
   "source": [
    "synth_network.to_csv(\"../data/synth_network.csv\", index=False)\n",
    "synth_pool.to_csv(\"../data/synth_pool.csv\", index=False)\n",
    "synth_members.to_csv(\"../data/synth_members.csv\", index=False)"
   ]
  },
  {
   "cell_type": "markdown",
   "metadata": {},
   "source": [
    "## Visualize data"
   ]
  },
  {
   "cell_type": "code",
   "execution_count": 10,
   "metadata": {},
   "outputs": [
    {
     "data": {
      "text/html": [
       "\n",
       "<div id=\"altair-viz-26d439063135488fa54d9e1855ac34bb\"></div>\n",
       "<script type=\"text/javascript\">\n",
       "  (function(spec, embedOpt){\n",
       "    let outputDiv = document.currentScript.previousElementSibling;\n",
       "    if (outputDiv.id !== \"altair-viz-26d439063135488fa54d9e1855ac34bb\") {\n",
       "      outputDiv = document.getElementById(\"altair-viz-26d439063135488fa54d9e1855ac34bb\");\n",
       "    }\n",
       "    const paths = {\n",
       "      \"vega\": \"https://cdn.jsdelivr.net/npm//vega@5?noext\",\n",
       "      \"vega-lib\": \"https://cdn.jsdelivr.net/npm//vega-lib?noext\",\n",
       "      \"vega-lite\": \"https://cdn.jsdelivr.net/npm//vega-lite@4.8.1?noext\",\n",
       "      \"vega-embed\": \"https://cdn.jsdelivr.net/npm//vega-embed@6?noext\",\n",
       "    };\n",
       "\n",
       "    function loadScript(lib) {\n",
       "      return new Promise(function(resolve, reject) {\n",
       "        var s = document.createElement('script');\n",
       "        s.src = paths[lib];\n",
       "        s.async = true;\n",
       "        s.onload = () => resolve(paths[lib]);\n",
       "        s.onerror = () => reject(`Error loading script: ${paths[lib]}`);\n",
       "        document.getElementsByTagName(\"head\")[0].appendChild(s);\n",
       "      });\n",
       "    }\n",
       "\n",
       "    function showError(err) {\n",
       "      outputDiv.innerHTML = `<div class=\"error\" style=\"color:red;\">${err}</div>`;\n",
       "      throw err;\n",
       "    }\n",
       "\n",
       "    function displayChart(vegaEmbed) {\n",
       "      vegaEmbed(outputDiv, spec, embedOpt)\n",
       "        .catch(err => showError(`Javascript Error: ${err.message}<br>This usually means there's a typo in your chart specification. See the javascript console for the full traceback.`));\n",
       "    }\n",
       "\n",
       "    if(typeof define === \"function\" && define.amd) {\n",
       "      requirejs.config({paths});\n",
       "      require([\"vega-embed\"], displayChart, err => showError(`Error loading script: ${err.message}`));\n",
       "    } else if (typeof vegaEmbed === \"function\") {\n",
       "      displayChart(vegaEmbed);\n",
       "    } else {\n",
       "      loadScript(\"vega\")\n",
       "        .then(() => loadScript(\"vega-lite\"))\n",
       "        .then(() => loadScript(\"vega-embed\"))\n",
       "        .catch(showError)\n",
       "        .then(() => displayChart(vegaEmbed));\n",
       "    }\n",
       "  })({\"config\": {\"view\": {\"continuousWidth\": 400, \"continuousHeight\": 300}}, \"layer\": [{\"data\": {\"url\": \"https://vega.github.io/vega-datasets/data/us-10m.json\", \"format\": {\"feature\": \"states\", \"type\": \"topojson\"}}, \"mark\": {\"type\": \"geoshape\", \"fill\": \"lightgray\", \"stroke\": \"white\"}, \"height\": 1000, \"projection\": {\"type\": \"albersUsa\"}, \"width\": 2000}, {\"data\": {\"name\": \"data-16cf8874eaef77eefb7c313e31f2ba41\"}, \"mark\": {\"type\": \"circle\", \"color\": \"red\"}, \"encoding\": {\"latitude\": {\"field\": \"latitude\", \"type\": \"quantitative\"}, \"longitude\": {\"field\": \"longitude\", \"type\": \"quantitative\"}, \"size\": {\"value\": 0.5}}}, {\"data\": {\"name\": \"data-10e02c519a882508f3738a1a5a1d2892\"}, \"mark\": {\"type\": \"circle\", \"color\": \"blue\"}, \"encoding\": {\"latitude\": {\"field\": \"latitude\", \"type\": \"quantitative\"}, \"longitude\": {\"field\": \"longitude\", \"type\": \"quantitative\"}, \"size\": {\"value\": 0.5}}}], \"$schema\": \"https://vega.github.io/schema/vega-lite/v4.8.1.json\", \"datasets\": {\"data-16cf8874eaef77eefb7c313e31f2ba41\": [{\"member_id\": \"5516801814\", \"county\": \"wayne\", \"latitude\": 42.143942, \"longitude\": -83.895225}, {\"member_id\": \"4642621702\", \"county\": \"wayne\", \"latitude\": 42.067911, \"longitude\": -83.801196}, {\"member_id\": \"6701196205\", \"county\": \"wayne\", \"latitude\": 42.433448, \"longitude\": -83.944665}, {\"member_id\": \"8879981210\", \"county\": \"wayne\", \"latitude\": 42.204021, \"longitude\": -83.78817}, {\"member_id\": \"7082778613\", \"county\": \"wayne\", \"latitude\": 42.109581, \"longitude\": -83.629837}, {\"member_id\": \"1380276085\", \"county\": \"wayne\", \"latitude\": 42.125115, \"longitude\": -83.493522}, {\"member_id\": \"2394881298\", \"county\": \"wayne\", \"latitude\": 42.489673, \"longitude\": -83.428291}, {\"member_id\": \"7871173652\", \"county\": \"wayne\", \"latitude\": 42.447222, \"longitude\": -83.872972}, {\"member_id\": \"9423207637\", \"county\": \"wayne\", \"latitude\": 42.316024, \"longitude\": -83.441629}, {\"member_id\": \"7647898831\", \"county\": \"wayne\", \"latitude\": 42.399406, \"longitude\": -83.4004}, {\"member_id\": \"5476207239\", \"county\": \"wayne\", \"latitude\": 42.212846, \"longitude\": -83.904835}, {\"member_id\": \"2497133772\", \"county\": \"wayne\", \"latitude\": 42.180475, \"longitude\": -83.634633}, {\"member_id\": \"7720655381\", \"county\": \"wayne\", \"latitude\": 42.207715, \"longitude\": -83.963954}, {\"member_id\": \"6062581585\", \"county\": \"wayne\", \"latitude\": 42.229958, \"longitude\": -83.708106}, {\"member_id\": \"6423093348\", \"county\": \"wayne\", \"latitude\": 42.057033, \"longitude\": -83.459647}, {\"member_id\": \"4315548691\", \"county\": \"wayne\", \"latitude\": 42.366717, \"longitude\": -83.865651}, {\"member_id\": \"0237039444\", \"county\": \"wayne\", \"latitude\": 42.146175, \"longitude\": -83.787831}, {\"member_id\": \"7315140565\", \"county\": \"wayne\", \"latitude\": 42.099006, \"longitude\": -83.647434}, {\"member_id\": \"9468297042\", \"county\": \"wayne\", \"latitude\": 42.071607, \"longitude\": -83.729333}, {\"member_id\": \"5429155428\", \"county\": \"wayne\", \"latitude\": 42.204466, \"longitude\": -83.898083}, {\"member_id\": \"7229153133\", \"county\": \"wayne\", \"latitude\": 42.16309, \"longitude\": -83.767034}, {\"member_id\": \"3459842911\", \"county\": \"wayne\", \"latitude\": 42.295354, \"longitude\": -83.902793}, {\"member_id\": \"0460456224\", \"county\": \"wayne\", \"latitude\": 42.09161, \"longitude\": -83.976523}, {\"member_id\": \"6322402895\", \"county\": \"wayne\", \"latitude\": 42.444341, \"longitude\": -83.418098}, {\"member_id\": \"1745049310\", \"county\": \"wayne\", \"latitude\": 42.223895, \"longitude\": -83.99174}, {\"member_id\": \"8701366432\", \"county\": \"wayne\", \"latitude\": 42.474834, \"longitude\": -83.433671}, {\"member_id\": \"9933410767\", \"county\": \"wayne\", \"latitude\": 42.095142, \"longitude\": -83.770839}, {\"member_id\": \"0443261092\", \"county\": \"wayne\", \"latitude\": 42.283479, \"longitude\": -83.64872}, {\"member_id\": \"8131206465\", \"county\": \"wayne\", \"latitude\": 42.498629, \"longitude\": -83.535688}, {\"member_id\": \"4587791034\", \"county\": \"wayne\", \"latitude\": 42.099464, \"longitude\": -83.41117}, {\"member_id\": \"8371049446\", \"county\": \"wayne\", \"latitude\": 42.444744, \"longitude\": -83.429888}, {\"member_id\": \"0837695950\", \"county\": \"wayne\", \"latitude\": 42.212591, \"longitude\": -83.421248}, {\"member_id\": \"1016292049\", \"county\": \"wayne\", \"latitude\": 42.362021, \"longitude\": -83.604808}, {\"member_id\": \"4999516500\", \"county\": \"wayne\", \"latitude\": 42.254822, \"longitude\": -83.823811}, {\"member_id\": \"2856587062\", \"county\": \"wayne\", \"latitude\": 42.128433, \"longitude\": -83.569821}, {\"member_id\": \"6102779508\", \"county\": \"wayne\", \"latitude\": 42.053705, \"longitude\": -83.419588}, {\"member_id\": \"1233262858\", \"county\": \"wayne\", \"latitude\": 42.060361, \"longitude\": -83.880282}, {\"member_id\": \"7695261169\", \"county\": \"wayne\", \"latitude\": 42.19775, \"longitude\": -83.517141}, {\"member_id\": \"6263108923\", \"county\": \"wayne\", \"latitude\": 42.178862, \"longitude\": -83.495526}, {\"member_id\": \"0492253878\", \"county\": \"wayne\", \"latitude\": 42.38176, \"longitude\": -83.809076}, {\"member_id\": \"9115703996\", \"county\": \"wayne\", \"latitude\": 42.353602, \"longitude\": -83.481295}, {\"member_id\": \"6394530529\", \"county\": \"wayne\", \"latitude\": 42.321631, \"longitude\": -83.758965}, {\"member_id\": \"1932926507\", \"county\": \"wayne\", \"latitude\": 42.452495, \"longitude\": -83.938912}, {\"member_id\": \"5845550807\", \"county\": \"wayne\", \"latitude\": 42.35976, \"longitude\": -83.86665}, {\"member_id\": \"1758547621\", \"county\": \"wayne\", \"latitude\": 42.045551, \"longitude\": -83.617137}, {\"member_id\": \"8242884151\", \"county\": \"wayne\", \"latitude\": 42.216871, \"longitude\": -83.464354}, {\"member_id\": \"4471213669\", \"county\": \"wayne\", \"latitude\": 42.468203, \"longitude\": -83.416669}, {\"member_id\": \"5898826240\", \"county\": \"wayne\", \"latitude\": 42.092118, \"longitude\": -83.958744}, {\"member_id\": \"8439389312\", \"county\": \"wayne\", \"latitude\": 42.028193, \"longitude\": -83.629566}, {\"member_id\": \"7560407180\", \"county\": \"wayne\", \"latitude\": 42.415422, \"longitude\": -83.46631}, {\"member_id\": \"2259834061\", \"county\": \"wayne\", \"latitude\": 42.00581, \"longitude\": -83.819735}, {\"member_id\": \"3942973572\", \"county\": \"wayne\", \"latitude\": 42.178483, \"longitude\": -83.825543}, {\"member_id\": \"9264541124\", \"county\": \"wayne\", \"latitude\": 42.3855, \"longitude\": -83.918996}, {\"member_id\": \"1062596467\", \"county\": \"wayne\", \"latitude\": 42.096374, \"longitude\": -83.792993}, {\"member_id\": \"3350231314\", \"county\": \"wayne\", \"latitude\": 42.15695, \"longitude\": -83.942858}, {\"member_id\": \"4679011071\", \"county\": \"wayne\", \"latitude\": 42.07449, \"longitude\": -83.45019}, {\"member_id\": \"2256918107\", \"county\": \"wayne\", \"latitude\": 42.487246, \"longitude\": -83.865295}, {\"member_id\": \"1946778376\", \"county\": \"wayne\", \"latitude\": 42.203224, \"longitude\": -83.960313}, {\"member_id\": \"9993762180\", \"county\": \"wayne\", \"latitude\": 42.369977, \"longitude\": -83.505872}, {\"member_id\": \"4013261885\", \"county\": \"wayne\", \"latitude\": 42.087328, \"longitude\": -83.820143}, {\"member_id\": \"4616801925\", \"county\": \"wayne\", \"latitude\": 42.12677, \"longitude\": -83.93781}, {\"member_id\": \"1590600797\", \"county\": \"wayne\", \"latitude\": 42.316503, \"longitude\": -83.691702}, {\"member_id\": \"2328810448\", \"county\": \"wayne\", \"latitude\": 42.460711, \"longitude\": -83.819338}, {\"member_id\": \"2025210718\", \"county\": \"wayne\", \"latitude\": 42.3705, \"longitude\": -83.684397}, {\"member_id\": \"6580707512\", \"county\": \"wayne\", \"latitude\": 42.070083, \"longitude\": -83.478674}, {\"member_id\": \"0329105218\", \"county\": \"wayne\", \"latitude\": 42.031738, \"longitude\": -83.770239}, {\"member_id\": \"5176164653\", \"county\": \"wayne\", \"latitude\": 42.446389, \"longitude\": -83.88045}, {\"member_id\": \"3465524396\", \"county\": \"wayne\", \"latitude\": 42.117463, \"longitude\": -83.94073}, {\"member_id\": \"6666783230\", \"county\": \"wayne\", \"latitude\": 42.499846, \"longitude\": -83.75161}, {\"member_id\": \"1580652421\", \"county\": \"wayne\", \"latitude\": 42.327001, \"longitude\": -83.404906}, {\"member_id\": \"7177944715\", \"county\": \"wayne\", \"latitude\": 42.391583, \"longitude\": -83.809149}, {\"member_id\": \"3539540886\", \"county\": \"wayne\", \"latitude\": 42.023939, \"longitude\": -83.697211}, {\"member_id\": \"5700673223\", \"county\": \"wayne\", \"latitude\": 42.21154, \"longitude\": -83.419645}, {\"member_id\": \"8359242250\", \"county\": \"wayne\", \"latitude\": 42.27345, \"longitude\": -83.588158}, {\"member_id\": \"3519590428\", \"county\": \"wayne\", \"latitude\": 42.373253, \"longitude\": -83.619729}, {\"member_id\": \"2423812333\", \"county\": \"wayne\", \"latitude\": 42.484644, \"longitude\": -83.6125}, {\"member_id\": \"1998516634\", \"county\": \"wayne\", \"latitude\": 42.093488, \"longitude\": -83.725414}, {\"member_id\": \"2316172524\", \"county\": \"wayne\", \"latitude\": 42.271879, \"longitude\": -83.620915}, {\"member_id\": \"2865119708\", \"county\": \"wayne\", \"latitude\": 42.015809, \"longitude\": -83.866101}, {\"member_id\": \"9696509568\", \"county\": \"wayne\", \"latitude\": 42.063009, \"longitude\": -83.487077}, {\"member_id\": \"4287310941\", \"county\": \"wayne\", \"latitude\": 42.328857, \"longitude\": -83.586995}, {\"member_id\": \"9135820173\", \"county\": \"wayne\", \"latitude\": 42.399501, \"longitude\": -83.792693}, {\"member_id\": \"1454074105\", \"county\": \"wayne\", \"latitude\": 42.325549, \"longitude\": -83.661081}, {\"member_id\": \"2467823790\", \"county\": \"wayne\", \"latitude\": 42.279657, \"longitude\": -83.893156}, {\"member_id\": \"8383482852\", \"county\": \"wayne\", \"latitude\": 42.143281, \"longitude\": -83.690772}, {\"member_id\": \"3906831048\", \"county\": \"wayne\", \"latitude\": 42.030283, \"longitude\": -83.8562}, {\"member_id\": \"8653957763\", \"county\": \"wayne\", \"latitude\": 42.391285, \"longitude\": -83.721632}, {\"member_id\": \"7619164245\", \"county\": \"wayne\", \"latitude\": 42.378481, \"longitude\": -83.959507}, {\"member_id\": \"0851443023\", \"county\": \"wayne\", \"latitude\": 42.273314, \"longitude\": -83.432735}, {\"member_id\": \"4128057246\", \"county\": \"wayne\", \"latitude\": 42.280532, \"longitude\": -83.854976}, {\"member_id\": \"9559809215\", \"county\": \"wayne\", \"latitude\": 42.044771, \"longitude\": -83.716331}, {\"member_id\": \"4456519976\", \"county\": \"wayne\", \"latitude\": 42.389831, \"longitude\": -83.49494}, {\"member_id\": \"0636560921\", \"county\": \"wayne\", \"latitude\": 42.36434, \"longitude\": -83.978839}, {\"member_id\": \"9241148605\", \"county\": \"wayne\", \"latitude\": 42.343052, \"longitude\": -83.400747}, {\"member_id\": \"6846325810\", \"county\": \"wayne\", \"latitude\": 42.336285, \"longitude\": -83.539625}, {\"member_id\": \"0615938356\", \"county\": \"wayne\", \"latitude\": 42.063243, \"longitude\": -83.833389}, {\"member_id\": \"5537902731\", \"county\": \"wayne\", \"latitude\": 42.134315, \"longitude\": -83.792189}, {\"member_id\": \"4965174616\", \"county\": \"wayne\", \"latitude\": 42.454841, \"longitude\": -83.498231}, {\"member_id\": \"4894475930\", \"county\": \"wayne\", \"latitude\": 42.11098, \"longitude\": -83.698876}, {\"member_id\": \"7031586913\", \"county\": \"wayne\", \"latitude\": 42.116474, \"longitude\": -83.633478}, {\"member_id\": \"0219892155\", \"county\": \"wayne\", \"latitude\": 42.081965, \"longitude\": -83.436339}], \"data-10e02c519a882508f3738a1a5a1d2892\": [{\"npi\": \"3416419132\", \"specialty\": \"cardiologist\", \"group_id\": 12, \"efficiency\": 3, \"effectiveness\": 4, \"county\": \"wayne\", \"latitude\": 42.298655, \"longitude\": -83.753393}, {\"npi\": \"1651718310\", \"specialty\": \"obgyn\", \"group_id\": 7, \"efficiency\": 3, \"effectiveness\": 5, \"county\": \"wayne\", \"latitude\": 42.235553, \"longitude\": -83.64668}, {\"npi\": \"1724975273\", \"specialty\": \"cardiologist\", \"group_id\": 8, \"efficiency\": 4, \"effectiveness\": 1, \"county\": \"wayne\", \"latitude\": 42.022407, \"longitude\": -83.538272}, {\"npi\": \"4033578013\", \"specialty\": \"pcp\", \"group_id\": 0, \"efficiency\": 2, \"effectiveness\": 2, \"county\": \"wayne\", \"latitude\": 42.047579, \"longitude\": -83.961795}, {\"npi\": \"0495891507\", \"specialty\": \"cardiologist\", \"group_id\": 13, \"efficiency\": 4, \"effectiveness\": 2, \"county\": \"wayne\", \"latitude\": 41.95245, \"longitude\": -83.584774}, {\"npi\": \"9092764457\", \"specialty\": \"ent\", \"group_id\": 10, \"efficiency\": 3, \"effectiveness\": 2, \"county\": \"wayne\", \"latitude\": 41.960367, \"longitude\": -83.423427}, {\"npi\": \"0496305517\", \"specialty\": \"urologist\", \"group_id\": 9, \"efficiency\": 4, \"effectiveness\": 1, \"county\": \"wayne\", \"latitude\": 42.134431, \"longitude\": -83.638173}, {\"npi\": \"2814394608\", \"specialty\": \"urologist\", \"group_id\": 5, \"efficiency\": 2, \"effectiveness\": 4, \"county\": \"wayne\", \"latitude\": 42.395855, \"longitude\": -83.575942}, {\"npi\": \"8848393704\", \"specialty\": \"urologist\", \"group_id\": 8, \"efficiency\": 4, \"effectiveness\": 3, \"county\": \"wayne\", \"latitude\": 42.055317, \"longitude\": -83.920167}, {\"npi\": \"1959296282\", \"specialty\": \"urologist\", \"group_id\": 12, \"efficiency\": 5, \"effectiveness\": 3, \"county\": \"wayne\", \"latitude\": 41.962772, \"longitude\": -83.651394}, {\"npi\": \"8071906298\", \"specialty\": \"cardiologist\", \"group_id\": 8, \"efficiency\": 5, \"effectiveness\": 3, \"county\": \"wayne\", \"latitude\": 42.301945, \"longitude\": -83.431814}, {\"npi\": \"5094103130\", \"specialty\": \"ent\", \"group_id\": 10, \"efficiency\": 1, \"effectiveness\": 1, \"county\": \"wayne\", \"latitude\": 41.991172, \"longitude\": -83.990454}, {\"npi\": \"4646813440\", \"specialty\": \"pcp\", \"group_id\": 6, \"efficiency\": 5, \"effectiveness\": 3, \"county\": \"wayne\", \"latitude\": 42.130907, \"longitude\": -83.462921}, {\"npi\": \"4646813440\", \"specialty\": \"pcp\", \"group_id\": 6, \"efficiency\": 5, \"effectiveness\": 3, \"county\": \"wayne\", \"latitude\": 42.207029, \"longitude\": -83.458287}, {\"npi\": \"7464283949\", \"specialty\": \"pcp\", \"group_id\": 1, \"efficiency\": 5, \"effectiveness\": 1, \"county\": \"wayne\", \"latitude\": 41.969944, \"longitude\": -83.936331}, {\"npi\": \"1390290647\", \"specialty\": \"ent\", \"group_id\": 5, \"efficiency\": 2, \"effectiveness\": 1, \"county\": \"wayne\", \"latitude\": 42.290925, \"longitude\": -83.940487}, {\"npi\": \"4202414606\", \"specialty\": \"ent\", \"group_id\": 10, \"efficiency\": 5, \"effectiveness\": 2, \"county\": \"wayne\", \"latitude\": 42.207208, \"longitude\": -83.607132}, {\"npi\": \"9066741953\", \"specialty\": \"pcp\", \"group_id\": 1, \"efficiency\": 5, \"effectiveness\": 1, \"county\": \"wayne\", \"latitude\": 42.026435, \"longitude\": -83.846811}, {\"npi\": \"7753298809\", \"specialty\": \"urologist\", \"group_id\": 5, \"efficiency\": 2, \"effectiveness\": 1, \"county\": \"wayne\", \"latitude\": 42.309795, \"longitude\": -83.419652}, {\"npi\": \"1908570235\", \"specialty\": \"urologist\", \"group_id\": 13, \"efficiency\": 4, \"effectiveness\": 2, \"county\": \"wayne\", \"latitude\": 42.087524, \"longitude\": -83.422827}, {\"npi\": \"4421111288\", \"specialty\": \"cardiologist\", \"group_id\": 11, \"efficiency\": 1, \"effectiveness\": 2, \"county\": \"wayne\", \"latitude\": 42.195323, \"longitude\": -83.678899}, {\"npi\": \"0731946810\", \"specialty\": \"ent\", \"group_id\": 7, \"efficiency\": 4, \"effectiveness\": 3, \"county\": \"wayne\", \"latitude\": 42.038633, \"longitude\": -83.912929}, {\"npi\": \"7544866154\", \"specialty\": \"obgyn\", \"group_id\": 2, \"efficiency\": 5, \"effectiveness\": 5, \"county\": \"wayne\", \"latitude\": 42.387924, \"longitude\": -83.445737}, {\"npi\": \"5818444707\", \"specialty\": \"urologist\", \"group_id\": 13, \"efficiency\": 2, \"effectiveness\": 3, \"county\": \"wayne\", \"latitude\": 42.07176, \"longitude\": -83.485729}, {\"npi\": \"1959296282\", \"specialty\": \"urologist\", \"group_id\": 12, \"efficiency\": 5, \"effectiveness\": 3, \"county\": \"wayne\", \"latitude\": 41.97185, \"longitude\": -83.698052}, {\"npi\": \"3882071354\", \"specialty\": \"cardiologist\", \"group_id\": 13, \"efficiency\": 2, \"effectiveness\": 1, \"county\": \"wayne\", \"latitude\": 41.960001, \"longitude\": -83.554379}, {\"npi\": \"0496305517\", \"specialty\": \"urologist\", \"group_id\": 9, \"efficiency\": 4, \"effectiveness\": 1, \"county\": \"wayne\", \"latitude\": 42.34288, \"longitude\": -83.689684}, {\"npi\": \"8601101192\", \"specialty\": \"ent\", \"group_id\": 3, \"efficiency\": 1, \"effectiveness\": 2, \"county\": \"wayne\", \"latitude\": 42.034547, \"longitude\": -83.951637}, {\"npi\": \"3910238960\", \"specialty\": \"cardiologist\", \"group_id\": 10, \"efficiency\": 5, \"effectiveness\": 2, \"county\": \"wayne\", \"latitude\": 41.926189, \"longitude\": -83.6553}, {\"npi\": \"2814394608\", \"specialty\": \"urologist\", \"group_id\": 5, \"efficiency\": 2, \"effectiveness\": 4, \"county\": \"wayne\", \"latitude\": 42.168242, \"longitude\": -83.808519}, {\"npi\": \"0496305517\", \"specialty\": \"urologist\", \"group_id\": 9, \"efficiency\": 4, \"effectiveness\": 1, \"county\": \"wayne\", \"latitude\": 42.128228, \"longitude\": -83.619599}, {\"npi\": \"3702063584\", \"specialty\": \"ent\", \"group_id\": 7, \"efficiency\": 3, \"effectiveness\": 1, \"county\": \"wayne\", \"latitude\": 42.388542, \"longitude\": -83.618937}, {\"npi\": \"1603086004\", \"specialty\": \"pcp\", \"group_id\": 12, \"efficiency\": 3, \"effectiveness\": 3, \"county\": \"wayne\", \"latitude\": 42.299742, \"longitude\": -83.862113}, {\"npi\": \"8069999803\", \"specialty\": \"cardiologist\", \"group_id\": 11, \"efficiency\": 4, \"effectiveness\": 5, \"county\": \"wayne\", \"latitude\": 42.093671, \"longitude\": -83.819763}, {\"npi\": \"3416419132\", \"specialty\": \"cardiologist\", \"group_id\": 12, \"efficiency\": 3, \"effectiveness\": 4, \"county\": \"wayne\", \"latitude\": 42.270467, \"longitude\": -83.855352}, {\"npi\": \"8296364794\", \"specialty\": \"urologist\", \"group_id\": 9, \"efficiency\": 1, \"effectiveness\": 2, \"county\": \"wayne\", \"latitude\": 41.939562, \"longitude\": -83.719217}, {\"npi\": \"7464283949\", \"specialty\": \"pcp\", \"group_id\": 1, \"efficiency\": 5, \"effectiveness\": 1, \"county\": \"wayne\", \"latitude\": 42.279575, \"longitude\": -83.406459}, {\"npi\": \"4584372920\", \"specialty\": \"cardiologist\", \"group_id\": 13, \"efficiency\": 5, \"effectiveness\": 5, \"county\": \"wayne\", \"latitude\": 42.102179, \"longitude\": -83.411062}, {\"npi\": \"1460762090\", \"specialty\": \"ent\", \"group_id\": 0, \"efficiency\": 4, \"effectiveness\": 3, \"county\": \"wayne\", \"latitude\": 42.387854, \"longitude\": -83.734201}, {\"npi\": \"4149242379\", \"specialty\": \"urologist\", \"group_id\": 13, \"efficiency\": 3, \"effectiveness\": 5, \"county\": \"wayne\", \"latitude\": 42.385479, \"longitude\": -83.582066}, {\"npi\": \"0495891507\", \"specialty\": \"cardiologist\", \"group_id\": 13, \"efficiency\": 4, \"effectiveness\": 2, \"county\": \"wayne\", \"latitude\": 42.393729, \"longitude\": -83.573616}, {\"npi\": \"0020082885\", \"specialty\": \"cardiologist\", \"group_id\": 1, \"efficiency\": 1, \"effectiveness\": 3, \"county\": \"wayne\", \"latitude\": 42.031729, \"longitude\": -83.962105}, {\"npi\": \"1687684961\", \"specialty\": \"obgyn\", \"group_id\": 11, \"efficiency\": 4, \"effectiveness\": 2, \"county\": \"wayne\", \"latitude\": 42.294826, \"longitude\": -83.723209}, {\"npi\": \"4120499964\", \"specialty\": \"cardiologist\", \"group_id\": 11, \"efficiency\": 1, \"effectiveness\": 4, \"county\": \"wayne\", \"latitude\": 42.30582, \"longitude\": -83.562454}, {\"npi\": \"0186062221\", \"specialty\": \"cardiologist\", \"group_id\": 1, \"efficiency\": 2, \"effectiveness\": 5, \"county\": \"wayne\", \"latitude\": 42.376403, \"longitude\": -83.741455}, {\"npi\": \"0020082885\", \"specialty\": \"cardiologist\", \"group_id\": 1, \"efficiency\": 1, \"effectiveness\": 3, \"county\": \"wayne\", \"latitude\": 42.111444, \"longitude\": -83.773004}, {\"npi\": \"3414431721\", \"specialty\": \"obgyn\", \"group_id\": 5, \"efficiency\": 1, \"effectiveness\": 3, \"county\": \"wayne\", \"latitude\": 42.269162, \"longitude\": -83.792234}, {\"npi\": \"5974710006\", \"specialty\": \"urologist\", \"group_id\": 4, \"efficiency\": 4, \"effectiveness\": 4, \"county\": \"wayne\", \"latitude\": 41.981258, \"longitude\": -83.766191}, {\"npi\": \"1390290647\", \"specialty\": \"ent\", \"group_id\": 5, \"efficiency\": 2, \"effectiveness\": 1, \"county\": \"wayne\", \"latitude\": 42.05706, \"longitude\": -83.403145}, {\"npi\": \"7464283949\", \"specialty\": \"pcp\", \"group_id\": 1, \"efficiency\": 5, \"effectiveness\": 1, \"county\": \"wayne\", \"latitude\": 42.368108, \"longitude\": -83.578229}, {\"npi\": \"1390290647\", \"specialty\": \"ent\", \"group_id\": 5, \"efficiency\": 2, \"effectiveness\": 1, \"county\": \"wayne\", \"latitude\": 42.027753, \"longitude\": -83.964161}, {\"npi\": \"0020082885\", \"specialty\": \"cardiologist\", \"group_id\": 1, \"efficiency\": 1, \"effectiveness\": 3, \"county\": \"wayne\", \"latitude\": 42.08298, \"longitude\": -83.616662}, {\"npi\": \"3910238960\", \"specialty\": \"cardiologist\", \"group_id\": 10, \"efficiency\": 5, \"effectiveness\": 2, \"county\": \"wayne\", \"latitude\": 41.953952, \"longitude\": -83.428406}, {\"npi\": \"5920161151\", \"specialty\": \"pcp\", \"group_id\": 1, \"efficiency\": 5, \"effectiveness\": 1, \"county\": \"wayne\", \"latitude\": 42.282035, \"longitude\": -83.444977}, {\"npi\": \"5583106302\", \"specialty\": \"pcp\", \"group_id\": 6, \"efficiency\": 1, \"effectiveness\": 2, \"county\": \"wayne\", \"latitude\": 42.187743, \"longitude\": -83.680212}, {\"npi\": \"1959296282\", \"specialty\": \"urologist\", \"group_id\": 12, \"efficiency\": 5, \"effectiveness\": 3, \"county\": \"wayne\", \"latitude\": 42.098147, \"longitude\": -83.757704}, {\"npi\": \"1724975273\", \"specialty\": \"cardiologist\", \"group_id\": 8, \"efficiency\": 4, \"effectiveness\": 1, \"county\": \"wayne\", \"latitude\": 42.332084, \"longitude\": -83.661523}, {\"npi\": \"5490188276\", \"specialty\": \"urologist\", \"group_id\": 7, \"efficiency\": 2, \"effectiveness\": 1, \"county\": \"wayne\", \"latitude\": 42.214668, \"longitude\": -83.485501}, {\"npi\": \"9978732237\", \"specialty\": \"ent\", \"group_id\": 5, \"efficiency\": 1, \"effectiveness\": 4, \"county\": \"wayne\", \"latitude\": 42.095659, \"longitude\": -83.489732}, {\"npi\": \"9392365215\", \"specialty\": \"pcp\", \"group_id\": 7, \"efficiency\": 5, \"effectiveness\": 1, \"county\": \"wayne\", \"latitude\": 41.921067, \"longitude\": -83.564744}, {\"npi\": \"7464283949\", \"specialty\": \"pcp\", \"group_id\": 1, \"efficiency\": 5, \"effectiveness\": 1, \"county\": \"wayne\", \"latitude\": 41.950559, \"longitude\": -83.93571}, {\"npi\": \"8993248502\", \"specialty\": \"ent\", \"group_id\": 1, \"efficiency\": 3, \"effectiveness\": 2, \"county\": \"wayne\", \"latitude\": 42.386571, \"longitude\": -83.880032}, {\"npi\": \"4663287433\", \"specialty\": \"obgyn\", \"group_id\": 5, \"efficiency\": 1, \"effectiveness\": 5, \"county\": \"wayne\", \"latitude\": 42.040929, \"longitude\": -83.809449}, {\"npi\": \"3244707186\", \"specialty\": \"ent\", \"group_id\": 14, \"efficiency\": 2, \"effectiveness\": 4, \"county\": \"wayne\", \"latitude\": 42.262318, \"longitude\": -83.806804}, {\"npi\": \"4858493119\", \"specialty\": \"ent\", \"group_id\": 8, \"efficiency\": 4, \"effectiveness\": 4, \"county\": \"wayne\", \"latitude\": 41.921188, \"longitude\": -83.96477}, {\"npi\": \"6470496048\", \"specialty\": \"ent\", \"group_id\": 4, \"efficiency\": 1, \"effectiveness\": 4, \"county\": \"wayne\", \"latitude\": 42.239273, \"longitude\": -83.513608}, {\"npi\": \"6531702812\", \"specialty\": \"urologist\", \"group_id\": 8, \"efficiency\": 3, \"effectiveness\": 5, \"county\": \"wayne\", \"latitude\": 41.969715, \"longitude\": -83.510752}, {\"npi\": \"9092764457\", \"specialty\": \"ent\", \"group_id\": 10, \"efficiency\": 3, \"effectiveness\": 2, \"county\": \"wayne\", \"latitude\": 41.992589, \"longitude\": -83.698522}, {\"npi\": \"5437394944\", \"specialty\": \"cardiologist\", \"group_id\": 5, \"efficiency\": 2, \"effectiveness\": 3, \"county\": \"wayne\", \"latitude\": 41.975618, \"longitude\": -83.5202}, {\"npi\": \"9066741953\", \"specialty\": \"pcp\", \"group_id\": 1, \"efficiency\": 5, \"effectiveness\": 1, \"county\": \"wayne\", \"latitude\": 41.980291, \"longitude\": -83.779811}, {\"npi\": \"3414431721\", \"specialty\": \"obgyn\", \"group_id\": 5, \"efficiency\": 1, \"effectiveness\": 3, \"county\": \"wayne\", \"latitude\": 42.092035, \"longitude\": -83.518645}, {\"npi\": \"4858493119\", \"specialty\": \"ent\", \"group_id\": 8, \"efficiency\": 4, \"effectiveness\": 4, \"county\": \"wayne\", \"latitude\": 41.96436, \"longitude\": -83.606416}, {\"npi\": \"5062918982\", \"specialty\": \"cardiologist\", \"group_id\": 4, \"efficiency\": 2, \"effectiveness\": 1, \"county\": \"wayne\", \"latitude\": 42.328229, \"longitude\": -83.514515}, {\"npi\": \"4584372920\", \"specialty\": \"cardiologist\", \"group_id\": 13, \"efficiency\": 5, \"effectiveness\": 5, \"county\": \"wayne\", \"latitude\": 42.21961, \"longitude\": -83.964697}, {\"npi\": \"1463167326\", \"specialty\": \"ent\", \"group_id\": 2, \"efficiency\": 2, \"effectiveness\": 3, \"county\": \"wayne\", \"latitude\": 42.350924, \"longitude\": -83.754664}, {\"npi\": \"9092764457\", \"specialty\": \"ent\", \"group_id\": 10, \"efficiency\": 3, \"effectiveness\": 2, \"county\": \"wayne\", \"latitude\": 42.120253, \"longitude\": -83.616819}, {\"npi\": \"8011520385\", \"specialty\": \"ent\", \"group_id\": 2, \"efficiency\": 4, \"effectiveness\": 3, \"county\": \"wayne\", \"latitude\": 41.975005, \"longitude\": -83.548151}, {\"npi\": \"7750547233\", \"specialty\": \"pcp\", \"group_id\": 7, \"efficiency\": 1, \"effectiveness\": 1, \"county\": \"wayne\", \"latitude\": 41.976205, \"longitude\": -83.956176}, {\"npi\": \"3244707186\", \"specialty\": \"ent\", \"group_id\": 14, \"efficiency\": 2, \"effectiveness\": 4, \"county\": \"wayne\", \"latitude\": 42.070654, \"longitude\": -83.897425}, {\"npi\": \"5326414206\", \"specialty\": \"obgyn\", \"group_id\": 13, \"efficiency\": 4, \"effectiveness\": 5, \"county\": \"wayne\", \"latitude\": 42.219946, \"longitude\": -83.66313}, {\"npi\": \"8069999803\", \"specialty\": \"cardiologist\", \"group_id\": 11, \"efficiency\": 4, \"effectiveness\": 5, \"county\": \"wayne\", \"latitude\": 41.944243, \"longitude\": -83.480804}, {\"npi\": \"1724975273\", \"specialty\": \"cardiologist\", \"group_id\": 8, \"efficiency\": 4, \"effectiveness\": 1, \"county\": \"wayne\", \"latitude\": 42.29512, \"longitude\": -83.480112}, {\"npi\": \"4033578013\", \"specialty\": \"pcp\", \"group_id\": 0, \"efficiency\": 2, \"effectiveness\": 2, \"county\": \"wayne\", \"latitude\": 42.074015, \"longitude\": -83.566139}, {\"npi\": \"8678965111\", \"specialty\": \"urologist\", \"group_id\": 14, \"efficiency\": 2, \"effectiveness\": 3, \"county\": \"wayne\", \"latitude\": 42.360767, \"longitude\": -83.980074}, {\"npi\": \"6893250231\", \"specialty\": \"urologist\", \"group_id\": 9, \"efficiency\": 2, \"effectiveness\": 4, \"county\": \"wayne\", \"latitude\": 41.922377, \"longitude\": -83.493322}, {\"npi\": \"8011520385\", \"specialty\": \"ent\", \"group_id\": 2, \"efficiency\": 4, \"effectiveness\": 3, \"county\": \"wayne\", \"latitude\": 42.234837, \"longitude\": -83.796632}, {\"npi\": \"1687684961\", \"specialty\": \"obgyn\", \"group_id\": 11, \"efficiency\": 4, \"effectiveness\": 2, \"county\": \"wayne\", \"latitude\": 41.926725, \"longitude\": -83.540665}, {\"npi\": \"8908888056\", \"specialty\": \"pcp\", \"group_id\": 2, \"efficiency\": 5, \"effectiveness\": 3, \"county\": \"wayne\", \"latitude\": 42.300566, \"longitude\": -83.835635}, {\"npi\": \"9092764457\", \"specialty\": \"ent\", \"group_id\": 10, \"efficiency\": 3, \"effectiveness\": 2, \"county\": \"wayne\", \"latitude\": 42.120871, \"longitude\": -83.768364}, {\"npi\": \"1959296282\", \"specialty\": \"urologist\", \"group_id\": 12, \"efficiency\": 5, \"effectiveness\": 3, \"county\": \"wayne\", \"latitude\": 42.213082, \"longitude\": -83.51321}, {\"npi\": \"7634661701\", \"specialty\": \"pcp\", \"group_id\": 11, \"efficiency\": 2, \"effectiveness\": 1, \"county\": \"wayne\", \"latitude\": 42.360969, \"longitude\": -83.656942}, {\"npi\": \"8993248502\", \"specialty\": \"ent\", \"group_id\": 1, \"efficiency\": 3, \"effectiveness\": 2, \"county\": \"wayne\", \"latitude\": 42.276238, \"longitude\": -83.816751}, {\"npi\": \"2459185151\", \"specialty\": \"cardiologist\", \"group_id\": 3, \"efficiency\": 3, \"effectiveness\": 4, \"county\": \"wayne\", \"latitude\": 41.904587, \"longitude\": -83.88581}, {\"npi\": \"5920161151\", \"specialty\": \"pcp\", \"group_id\": 1, \"efficiency\": 5, \"effectiveness\": 1, \"county\": \"wayne\", \"latitude\": 42.375584, \"longitude\": -83.515062}, {\"npi\": \"1331235026\", \"specialty\": \"obgyn\", \"group_id\": 12, \"efficiency\": 5, \"effectiveness\": 1, \"county\": \"wayne\", \"latitude\": 42.005544, \"longitude\": -83.44991}, {\"npi\": \"6338471088\", \"specialty\": \"urologist\", \"group_id\": 8, \"efficiency\": 3, \"effectiveness\": 5, \"county\": \"wayne\", \"latitude\": 42.216154, \"longitude\": -83.596186}, {\"npi\": \"6236135328\", \"specialty\": \"ent\", \"group_id\": 4, \"efficiency\": 5, \"effectiveness\": 5, \"county\": \"wayne\", \"latitude\": 42.211895, \"longitude\": -83.981112}, {\"npi\": \"2814394608\", \"specialty\": \"urologist\", \"group_id\": 5, \"efficiency\": 2, \"effectiveness\": 4, \"county\": \"wayne\", \"latitude\": 41.968126, \"longitude\": -83.837342}, {\"npi\": \"2105602790\", \"specialty\": \"obgyn\", \"group_id\": 6, \"efficiency\": 5, \"effectiveness\": 3, \"county\": \"wayne\", \"latitude\": 42.144587, \"longitude\": -83.473983}, {\"npi\": \"1529216417\", \"specialty\": \"obgyn\", \"group_id\": 10, \"efficiency\": 1, \"effectiveness\": 5, \"county\": \"wayne\", \"latitude\": 41.902453, \"longitude\": -83.855496}]}}, {\"mode\": \"vega-lite\"});\n",
       "</script>"
      ],
      "text/plain": [
       "alt.LayerChart(...)"
      ]
     },
     "execution_count": 10,
     "metadata": {},
     "output_type": "execute_result"
    }
   ],
   "source": [
    "states = alt.topo_feature(data.us_10m.url, feature='states')\n",
    "# airports = data.airports()\n",
    "\n",
    "background = alt.Chart(states).mark_geoshape(\n",
    "    fill='lightgray',\n",
    "    stroke='white'\n",
    ").project('albersUsa').properties(\n",
    "    width=2000,\n",
    "    height=1000\n",
    ")\n",
    "\n",
    "members = alt.Chart(synth_members.loc[0:100]).mark_circle(color=\"red\").encode(\n",
    "    longitude='longitude:Q',\n",
    "    latitude='latitude:Q',\n",
    "    size=alt.value(0.5),\n",
    ")\n",
    "\n",
    "providers = alt.Chart(synth_network.loc[0:100]).mark_circle(color=\"blue\").encode(\n",
    "    longitude='longitude:Q',\n",
    "    latitude='latitude:Q',\n",
    "    size=alt.value(0.5),\n",
    ")\n",
    "\n",
    "background + members + providers"
   ]
  },
  {
   "cell_type": "code",
   "execution_count": null,
   "metadata": {},
   "outputs": [],
   "source": []
  }
 ],
 "metadata": {
  "kernelspec": {
   "display_name": "base",
   "language": "python",
   "name": "python3"
  },
  "language_info": {
   "codemirror_mode": {
    "name": "ipython",
    "version": 3
   },
   "file_extension": ".py",
   "mimetype": "text/x-python",
   "name": "python",
   "nbconvert_exporter": "python",
   "pygments_lexer": "ipython3",
   "version": "3.7.16"
  }
 },
 "nbformat": 4,
 "nbformat_minor": 2
}
