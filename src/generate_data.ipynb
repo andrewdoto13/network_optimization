{
 "cells": [
  {
   "cell_type": "markdown",
   "metadata": {},
   "source": [
    "## Import libraries"
   ]
  },
  {
   "cell_type": "code",
   "execution_count": 1,
   "metadata": {},
   "outputs": [],
   "source": [
    "import synthetic_data_generators as sdg\n",
    "import numpy as np\n",
    "import pandas as pd\n",
    "import altair as alt\n",
    "from vega_datasets import data"
   ]
  },
  {
   "cell_type": "markdown",
   "metadata": {},
   "source": [
    "## Generate data"
   ]
  },
  {
   "cell_type": "code",
   "execution_count": 2,
   "metadata": {},
   "outputs": [],
   "source": [
    "NETWORK_SIZE = 1000\n",
    "POOL_SIZE = 1000\n",
    "MEMBER_SIZE = 1000\n",
    "MIN_LATITUDE = 42000000 #42.015438\n",
    "MAX_LATITUDE = 42500000 #42.481365\n",
    "MIN_LONGITUDE = -84000000 #-83.566956\n",
    "MAX_LONGITUDE = -83400000 #-82.628043"
   ]
  },
  {
   "cell_type": "code",
   "execution_count": 3,
   "metadata": {},
   "outputs": [],
   "source": [
    "synth_network = sdg.generate_providers(NETWORK_SIZE, MIN_LATITUDE-100000, MAX_LATITUDE-100000, MIN_LONGITUDE, MAX_LONGITUDE)\n",
    "synth_pool = sdg.generate_providers(POOL_SIZE, MIN_LATITUDE-100000, MAX_LATITUDE-100000, MIN_LONGITUDE, MAX_LONGITUDE)\n",
    "synth_members = sdg.generate_members(MEMBER_SIZE, MIN_LATITUDE, MAX_LATITUDE, MIN_LONGITUDE, MAX_LONGITUDE)"
   ]
  },
  {
   "cell_type": "code",
   "execution_count": 4,
   "metadata": {},
   "outputs": [],
   "source": [
    "synth_network.to_csv(\"../data/synth_network.csv\", index=False)\n",
    "synth_pool.to_csv(\"../data/synth_pool.csv\", index=False)\n",
    "synth_members.to_csv(\"../data/synth_members.csv\", index=False)"
   ]
  },
  {
   "cell_type": "markdown",
   "metadata": {},
   "source": [
    "## Visualize data"
   ]
  },
  {
   "cell_type": "code",
   "execution_count": 5,
   "metadata": {},
   "outputs": [
    {
     "data": {
      "text/html": [
       "\n",
       "<div id=\"altair-viz-01cc9b6a23b44b0e85750ce5e3e89ce4\"></div>\n",
       "<script type=\"text/javascript\">\n",
       "  (function(spec, embedOpt){\n",
       "    let outputDiv = document.currentScript.previousElementSibling;\n",
       "    if (outputDiv.id !== \"altair-viz-01cc9b6a23b44b0e85750ce5e3e89ce4\") {\n",
       "      outputDiv = document.getElementById(\"altair-viz-01cc9b6a23b44b0e85750ce5e3e89ce4\");\n",
       "    }\n",
       "    const paths = {\n",
       "      \"vega\": \"https://cdn.jsdelivr.net/npm//vega@5?noext\",\n",
       "      \"vega-lib\": \"https://cdn.jsdelivr.net/npm//vega-lib?noext\",\n",
       "      \"vega-lite\": \"https://cdn.jsdelivr.net/npm//vega-lite@4.8.1?noext\",\n",
       "      \"vega-embed\": \"https://cdn.jsdelivr.net/npm//vega-embed@6?noext\",\n",
       "    };\n",
       "\n",
       "    function loadScript(lib) {\n",
       "      return new Promise(function(resolve, reject) {\n",
       "        var s = document.createElement('script');\n",
       "        s.src = paths[lib];\n",
       "        s.async = true;\n",
       "        s.onload = () => resolve(paths[lib]);\n",
       "        s.onerror = () => reject(`Error loading script: ${paths[lib]}`);\n",
       "        document.getElementsByTagName(\"head\")[0].appendChild(s);\n",
       "      });\n",
       "    }\n",
       "\n",
       "    function showError(err) {\n",
       "      outputDiv.innerHTML = `<div class=\"error\" style=\"color:red;\">${err}</div>`;\n",
       "      throw err;\n",
       "    }\n",
       "\n",
       "    function displayChart(vegaEmbed) {\n",
       "      vegaEmbed(outputDiv, spec, embedOpt)\n",
       "        .catch(err => showError(`Javascript Error: ${err.message}<br>This usually means there's a typo in your chart specification. See the javascript console for the full traceback.`));\n",
       "    }\n",
       "\n",
       "    if(typeof define === \"function\" && define.amd) {\n",
       "      requirejs.config({paths});\n",
       "      require([\"vega-embed\"], displayChart, err => showError(`Error loading script: ${err.message}`));\n",
       "    } else if (typeof vegaEmbed === \"function\") {\n",
       "      displayChart(vegaEmbed);\n",
       "    } else {\n",
       "      loadScript(\"vega\")\n",
       "        .then(() => loadScript(\"vega-lite\"))\n",
       "        .then(() => loadScript(\"vega-embed\"))\n",
       "        .catch(showError)\n",
       "        .then(() => displayChart(vegaEmbed));\n",
       "    }\n",
       "  })({\"config\": {\"view\": {\"continuousWidth\": 400, \"continuousHeight\": 300}}, \"layer\": [{\"data\": {\"url\": \"https://vega.github.io/vega-datasets/data/us-10m.json\", \"format\": {\"feature\": \"states\", \"type\": \"topojson\"}}, \"mark\": {\"type\": \"geoshape\", \"fill\": \"lightgray\", \"stroke\": \"white\"}, \"height\": 1000, \"projection\": {\"type\": \"albersUsa\"}, \"width\": 2000}, {\"data\": {\"name\": \"data-c35101544dd6b87cc82eb59cc93b9def\"}, \"mark\": {\"type\": \"circle\", \"color\": \"red\"}, \"encoding\": {\"latitude\": {\"field\": \"latitude\", \"type\": \"quantitative\"}, \"longitude\": {\"field\": \"longitude\", \"type\": \"quantitative\"}, \"size\": {\"value\": 0.5}}}, {\"data\": {\"name\": \"data-bb913cb172d07bef73c06129c0da8747\"}, \"mark\": {\"type\": \"circle\", \"color\": \"blue\"}, \"encoding\": {\"latitude\": {\"field\": \"latitude\", \"type\": \"quantitative\"}, \"longitude\": {\"field\": \"longitude\", \"type\": \"quantitative\"}, \"size\": {\"value\": 0.5}}}], \"$schema\": \"https://vega.github.io/schema/vega-lite/v4.8.1.json\", \"datasets\": {\"data-c35101544dd6b87cc82eb59cc93b9def\": [{\"member_id\": \"8634690505\", \"county\": \"wayne\", \"latitude\": 42.352001, \"longitude\": -83.638937}, {\"member_id\": \"0661007333\", \"county\": \"wayne\", \"latitude\": 42.306828, \"longitude\": -83.991021}, {\"member_id\": \"9940555836\", \"county\": \"wayne\", \"latitude\": 42.338867, \"longitude\": -83.792587}, {\"member_id\": \"4481154015\", \"county\": \"wayne\", \"latitude\": 42.040743, \"longitude\": -83.570521}, {\"member_id\": \"6240233437\", \"county\": \"wayne\", \"latitude\": 42.223898, \"longitude\": -83.716921}, {\"member_id\": \"3063819045\", \"county\": \"wayne\", \"latitude\": 42.183031, \"longitude\": -83.481232}, {\"member_id\": \"8740411586\", \"county\": \"wayne\", \"latitude\": 42.119239, \"longitude\": -83.668188}, {\"member_id\": \"2423361817\", \"county\": \"wayne\", \"latitude\": 42.035577, \"longitude\": -83.401066}, {\"member_id\": \"8282401744\", \"county\": \"wayne\", \"latitude\": 42.363616, \"longitude\": -83.438451}, {\"member_id\": \"9549779959\", \"county\": \"wayne\", \"latitude\": 42.214287, \"longitude\": -83.818205}, {\"member_id\": \"8592267818\", \"county\": \"wayne\", \"latitude\": 42.490003, \"longitude\": -83.740959}, {\"member_id\": \"9364750823\", \"county\": \"wayne\", \"latitude\": 42.180026, \"longitude\": -83.935894}, {\"member_id\": \"9412881313\", \"county\": \"wayne\", \"latitude\": 42.003014, \"longitude\": -83.502446}, {\"member_id\": \"8956802886\", \"county\": \"wayne\", \"latitude\": 42.479411, \"longitude\": -83.566117}, {\"member_id\": \"9786246110\", \"county\": \"wayne\", \"latitude\": 42.142398, \"longitude\": -83.791841}, {\"member_id\": \"5736332105\", \"county\": \"wayne\", \"latitude\": 42.354347, \"longitude\": -83.624373}, {\"member_id\": \"1742448805\", \"county\": \"wayne\", \"latitude\": 42.114987, \"longitude\": -83.924623}, {\"member_id\": \"0665280029\", \"county\": \"wayne\", \"latitude\": 42.191345, \"longitude\": -83.569839}, {\"member_id\": \"2631059109\", \"county\": \"wayne\", \"latitude\": 42.346103, \"longitude\": -83.810134}, {\"member_id\": \"4919605631\", \"county\": \"wayne\", \"latitude\": 42.129769, \"longitude\": -83.721058}, {\"member_id\": \"8754673385\", \"county\": \"wayne\", \"latitude\": 42.174283, \"longitude\": -83.703911}, {\"member_id\": \"6575568023\", \"county\": \"wayne\", \"latitude\": 42.337827, \"longitude\": -83.833728}, {\"member_id\": \"3129492539\", \"county\": \"wayne\", \"latitude\": 42.211147, \"longitude\": -83.769703}, {\"member_id\": \"9451358635\", \"county\": \"wayne\", \"latitude\": 42.313159, \"longitude\": -83.804579}, {\"member_id\": \"5045487346\", \"county\": \"wayne\", \"latitude\": 42.250896, \"longitude\": -83.720206}, {\"member_id\": \"8884040143\", \"county\": \"wayne\", \"latitude\": 42.069279, \"longitude\": -83.575478}, {\"member_id\": \"8036035583\", \"county\": \"wayne\", \"latitude\": 42.028106, \"longitude\": -83.831245}, {\"member_id\": \"9207085056\", \"county\": \"wayne\", \"latitude\": 42.419758, \"longitude\": -83.692152}, {\"member_id\": \"2904270592\", \"county\": \"wayne\", \"latitude\": 42.445957, \"longitude\": -83.439326}, {\"member_id\": \"5790332579\", \"county\": \"wayne\", \"latitude\": 42.180758, \"longitude\": -83.959234}, {\"member_id\": \"0851926758\", \"county\": \"wayne\", \"latitude\": 42.369288, \"longitude\": -83.880038}, {\"member_id\": \"0050469057\", \"county\": \"wayne\", \"latitude\": 42.326521, \"longitude\": -83.739638}, {\"member_id\": \"8615699264\", \"county\": \"wayne\", \"latitude\": 42.275125, \"longitude\": -83.660564}, {\"member_id\": \"3891140825\", \"county\": \"wayne\", \"latitude\": 42.366783, \"longitude\": -83.598245}, {\"member_id\": \"9544605482\", \"county\": \"wayne\", \"latitude\": 42.364394, \"longitude\": -83.538741}, {\"member_id\": \"4764037129\", \"county\": \"wayne\", \"latitude\": 42.077411, \"longitude\": -83.806647}, {\"member_id\": \"1096504638\", \"county\": \"wayne\", \"latitude\": 42.094133, \"longitude\": -83.431749}, {\"member_id\": \"7249044631\", \"county\": \"wayne\", \"latitude\": 42.400019, \"longitude\": -83.428356}, {\"member_id\": \"7269469397\", \"county\": \"wayne\", \"latitude\": 42.303366, \"longitude\": -83.849586}, {\"member_id\": \"9185130339\", \"county\": \"wayne\", \"latitude\": 42.166625, \"longitude\": -83.608405}, {\"member_id\": \"2338921264\", \"county\": \"wayne\", \"latitude\": 42.477118, \"longitude\": -83.512285}, {\"member_id\": \"2254130599\", \"county\": \"wayne\", \"latitude\": 42.370441, \"longitude\": -83.890585}, {\"member_id\": \"0455755552\", \"county\": \"wayne\", \"latitude\": 42.203067, \"longitude\": -83.942696}, {\"member_id\": \"4620854559\", \"county\": \"wayne\", \"latitude\": 42.111599, \"longitude\": -83.779057}, {\"member_id\": \"4277379003\", \"county\": \"wayne\", \"latitude\": 42.382766, \"longitude\": -83.409634}, {\"member_id\": \"4123598062\", \"county\": \"wayne\", \"latitude\": 42.394588, \"longitude\": -83.614731}, {\"member_id\": \"2686577666\", \"county\": \"wayne\", \"latitude\": 42.053905, \"longitude\": -83.489627}, {\"member_id\": \"5252821755\", \"county\": \"wayne\", \"latitude\": 42.306596, \"longitude\": -83.901596}, {\"member_id\": \"5104480652\", \"county\": \"wayne\", \"latitude\": 42.035091, \"longitude\": -83.724692}, {\"member_id\": \"0985331004\", \"county\": \"wayne\", \"latitude\": 42.25056, \"longitude\": -83.946243}, {\"member_id\": \"1640092347\", \"county\": \"wayne\", \"latitude\": 42.076979, \"longitude\": -83.712784}, {\"member_id\": \"8964487399\", \"county\": \"wayne\", \"latitude\": 42.39797, \"longitude\": -83.731295}, {\"member_id\": \"1776861611\", \"county\": \"wayne\", \"latitude\": 42.213887, \"longitude\": -83.535187}, {\"member_id\": \"8223622585\", \"county\": \"wayne\", \"latitude\": 42.252861, \"longitude\": -83.999642}, {\"member_id\": \"2235045553\", \"county\": \"wayne\", \"latitude\": 42.16436, \"longitude\": -83.865719}, {\"member_id\": \"4379069877\", \"county\": \"wayne\", \"latitude\": 42.361095, \"longitude\": -83.962297}, {\"member_id\": \"5350987519\", \"county\": \"wayne\", \"latitude\": 42.048426, \"longitude\": -83.811742}, {\"member_id\": \"8259144592\", \"county\": \"wayne\", \"latitude\": 42.053111, \"longitude\": -83.825822}, {\"member_id\": \"6729168952\", \"county\": \"wayne\", \"latitude\": 42.252158, \"longitude\": -83.678356}, {\"member_id\": \"6214422759\", \"county\": \"wayne\", \"latitude\": 42.458965, \"longitude\": -83.547741}, {\"member_id\": \"8234605026\", \"county\": \"wayne\", \"latitude\": 42.440097, \"longitude\": -83.796776}, {\"member_id\": \"0715390769\", \"county\": \"wayne\", \"latitude\": 42.0068, \"longitude\": -83.715043}, {\"member_id\": \"9474309280\", \"county\": \"wayne\", \"latitude\": 42.27251, \"longitude\": -83.791301}, {\"member_id\": \"4400509271\", \"county\": \"wayne\", \"latitude\": 42.483366, \"longitude\": -83.883871}, {\"member_id\": \"9756830641\", \"county\": \"wayne\", \"latitude\": 42.23098, \"longitude\": -83.570675}, {\"member_id\": \"2906880239\", \"county\": \"wayne\", \"latitude\": 42.232774, \"longitude\": -83.644434}, {\"member_id\": \"2346207765\", \"county\": \"wayne\", \"latitude\": 42.134457, \"longitude\": -83.427007}, {\"member_id\": \"4916224750\", \"county\": \"wayne\", \"latitude\": 42.451124, \"longitude\": -83.859211}, {\"member_id\": \"2376761536\", \"county\": \"wayne\", \"latitude\": 42.483456, \"longitude\": -83.547638}, {\"member_id\": \"9930704642\", \"county\": \"wayne\", \"latitude\": 42.00458, \"longitude\": -83.541142}, {\"member_id\": \"6005744161\", \"county\": \"wayne\", \"latitude\": 42.154014, \"longitude\": -83.453699}, {\"member_id\": \"0131619742\", \"county\": \"wayne\", \"latitude\": 42.278695, \"longitude\": -83.766381}, {\"member_id\": \"6547737531\", \"county\": \"wayne\", \"latitude\": 42.229276, \"longitude\": -83.753129}, {\"member_id\": \"2925596074\", \"county\": \"wayne\", \"latitude\": 42.481388, \"longitude\": -83.714648}, {\"member_id\": \"2331579477\", \"county\": \"wayne\", \"latitude\": 42.100728, \"longitude\": -83.670973}, {\"member_id\": \"0944501160\", \"county\": \"wayne\", \"latitude\": 42.375953, \"longitude\": -83.453125}, {\"member_id\": \"9543928102\", \"county\": \"wayne\", \"latitude\": 42.465779, \"longitude\": -83.959482}, {\"member_id\": \"0010178292\", \"county\": \"wayne\", \"latitude\": 42.100083, \"longitude\": -83.5971}, {\"member_id\": \"4343954054\", \"county\": \"wayne\", \"latitude\": 42.494204, \"longitude\": -83.731236}, {\"member_id\": \"2593947127\", \"county\": \"wayne\", \"latitude\": 42.1663, \"longitude\": -83.731697}, {\"member_id\": \"9085333210\", \"county\": \"wayne\", \"latitude\": 42.332937, \"longitude\": -83.991574}, {\"member_id\": \"9676964542\", \"county\": \"wayne\", \"latitude\": 42.07786, \"longitude\": -83.693751}, {\"member_id\": \"3920423028\", \"county\": \"wayne\", \"latitude\": 42.244393, \"longitude\": -83.632867}, {\"member_id\": \"0298973722\", \"county\": \"wayne\", \"latitude\": 42.052437, \"longitude\": -83.425774}, {\"member_id\": \"1641414844\", \"county\": \"wayne\", \"latitude\": 42.384275, \"longitude\": -83.702657}, {\"member_id\": \"8840583933\", \"county\": \"wayne\", \"latitude\": 42.108079, \"longitude\": -83.58674}, {\"member_id\": \"6520256945\", \"county\": \"wayne\", \"latitude\": 42.45606, \"longitude\": -83.947258}, {\"member_id\": \"9853695203\", \"county\": \"wayne\", \"latitude\": 42.41238, \"longitude\": -83.806136}, {\"member_id\": \"0859061060\", \"county\": \"wayne\", \"latitude\": 42.040153, \"longitude\": -83.63439}, {\"member_id\": \"3385484574\", \"county\": \"wayne\", \"latitude\": 42.336884, \"longitude\": -83.447671}, {\"member_id\": \"9289007834\", \"county\": \"wayne\", \"latitude\": 42.249535, \"longitude\": -83.586645}, {\"member_id\": \"3693393757\", \"county\": \"wayne\", \"latitude\": 42.085723, \"longitude\": -83.613003}, {\"member_id\": \"6522638171\", \"county\": \"wayne\", \"latitude\": 42.415318, \"longitude\": -83.464193}, {\"member_id\": \"7798466085\", \"county\": \"wayne\", \"latitude\": 42.288439, \"longitude\": -83.656561}, {\"member_id\": \"4093844124\", \"county\": \"wayne\", \"latitude\": 42.446097, \"longitude\": -83.554474}, {\"member_id\": \"5109458575\", \"county\": \"wayne\", \"latitude\": 42.012941, \"longitude\": -83.567969}, {\"member_id\": \"0061150610\", \"county\": \"wayne\", \"latitude\": 42.486349, \"longitude\": -83.787935}, {\"member_id\": \"4560513907\", \"county\": \"wayne\", \"latitude\": 42.255744, \"longitude\": -83.60749}, {\"member_id\": \"8422184357\", \"county\": \"wayne\", \"latitude\": 42.215705, \"longitude\": -83.679203}, {\"member_id\": \"6867057517\", \"county\": \"wayne\", \"latitude\": 42.200932, \"longitude\": -83.415081}, {\"member_id\": \"3624380017\", \"county\": \"wayne\", \"latitude\": 42.4472, \"longitude\": -83.557114}], \"data-bb913cb172d07bef73c06129c0da8747\": [{\"npi\": \"8052689147\", \"specialty\": \"pcp\", \"county\": \"wayne\", \"efficiency\": 3, \"effectiveness\": 1, \"latitude\": 42.043115, \"longitude\": -83.965646}, {\"npi\": \"9877521389\", \"specialty\": \"obgyn\", \"county\": \"wayne\", \"efficiency\": 3, \"effectiveness\": 3, \"latitude\": 41.996285, \"longitude\": -83.568235}, {\"npi\": \"1631685399\", \"specialty\": \"obgyn\", \"county\": \"wayne\", \"efficiency\": 3, \"effectiveness\": 1, \"latitude\": 42.230905, \"longitude\": -83.836955}, {\"npi\": \"5607855010\", \"specialty\": \"obgyn\", \"county\": \"wayne\", \"efficiency\": 5, \"effectiveness\": 5, \"latitude\": 42.357713, \"longitude\": -83.908181}, {\"npi\": \"0003461772\", \"specialty\": \"urologist\", \"county\": \"wayne\", \"efficiency\": 1, \"effectiveness\": 4, \"latitude\": 42.004079, \"longitude\": -83.886582}, {\"npi\": \"2594068949\", \"specialty\": \"urologist\", \"county\": \"wayne\", \"efficiency\": 1, \"effectiveness\": 3, \"latitude\": 42.113387, \"longitude\": -83.577333}, {\"npi\": \"8238092343\", \"specialty\": \"urologist\", \"county\": \"wayne\", \"efficiency\": 4, \"effectiveness\": 5, \"latitude\": 42.32797, \"longitude\": -83.673867}, {\"npi\": \"2050296657\", \"specialty\": \"urologist\", \"county\": \"wayne\", \"efficiency\": 4, \"effectiveness\": 2, \"latitude\": 42.12872, \"longitude\": -83.581534}, {\"npi\": \"4002099728\", \"specialty\": \"urologist\", \"county\": \"wayne\", \"efficiency\": 4, \"effectiveness\": 5, \"latitude\": 42.367333, \"longitude\": -83.939295}, {\"npi\": \"7451239449\", \"specialty\": \"obgyn\", \"county\": \"wayne\", \"efficiency\": 5, \"effectiveness\": 4, \"latitude\": 42.162961, \"longitude\": -83.79533}, {\"npi\": \"6748668226\", \"specialty\": \"ent\", \"county\": \"wayne\", \"efficiency\": 5, \"effectiveness\": 2, \"latitude\": 42.120872, \"longitude\": -83.523255}, {\"npi\": \"3844288808\", \"specialty\": \"cardiologist\", \"county\": \"wayne\", \"efficiency\": 5, \"effectiveness\": 4, \"latitude\": 41.911239, \"longitude\": -83.604963}, {\"npi\": \"8679684612\", \"specialty\": \"cardiologist\", \"county\": \"wayne\", \"efficiency\": 3, \"effectiveness\": 5, \"latitude\": 41.954752, \"longitude\": -83.632363}, {\"npi\": \"6003576996\", \"specialty\": \"urologist\", \"county\": \"wayne\", \"efficiency\": 3, \"effectiveness\": 2, \"latitude\": 41.947123, \"longitude\": -83.778319}, {\"npi\": \"1699992410\", \"specialty\": \"ent\", \"county\": \"wayne\", \"efficiency\": 2, \"effectiveness\": 1, \"latitude\": 42.252421, \"longitude\": -83.58064}, {\"npi\": \"5536417747\", \"specialty\": \"pcp\", \"county\": \"wayne\", \"efficiency\": 1, \"effectiveness\": 1, \"latitude\": 42.300165, \"longitude\": -83.876163}, {\"npi\": \"5265630612\", \"specialty\": \"obgyn\", \"county\": \"wayne\", \"efficiency\": 4, \"effectiveness\": 1, \"latitude\": 42.024, \"longitude\": -83.963391}, {\"npi\": \"3743316287\", \"specialty\": \"obgyn\", \"county\": \"wayne\", \"efficiency\": 2, \"effectiveness\": 3, \"latitude\": 42.265685, \"longitude\": -83.759786}, {\"npi\": \"8761258023\", \"specialty\": \"cardiologist\", \"county\": \"wayne\", \"efficiency\": 2, \"effectiveness\": 3, \"latitude\": 42.352499, \"longitude\": -83.55679}, {\"npi\": \"9188001463\", \"specialty\": \"cardiologist\", \"county\": \"wayne\", \"efficiency\": 3, \"effectiveness\": 1, \"latitude\": 41.934945, \"longitude\": -83.510549}, {\"npi\": \"1001723323\", \"specialty\": \"cardiologist\", \"county\": \"wayne\", \"efficiency\": 1, \"effectiveness\": 5, \"latitude\": 42.170842, \"longitude\": -83.805773}, {\"npi\": \"6194804600\", \"specialty\": \"cardiologist\", \"county\": \"wayne\", \"efficiency\": 1, \"effectiveness\": 3, \"latitude\": 42.15785, \"longitude\": -83.710834}, {\"npi\": \"3583856188\", \"specialty\": \"cardiologist\", \"county\": \"wayne\", \"efficiency\": 2, \"effectiveness\": 2, \"latitude\": 42.091827, \"longitude\": -83.569647}, {\"npi\": \"6133218645\", \"specialty\": \"cardiologist\", \"county\": \"wayne\", \"efficiency\": 1, \"effectiveness\": 5, \"latitude\": 42.196031, \"longitude\": -83.804056}, {\"npi\": \"0216585594\", \"specialty\": \"urologist\", \"county\": \"wayne\", \"efficiency\": 2, \"effectiveness\": 5, \"latitude\": 41.996007, \"longitude\": -83.58641}, {\"npi\": \"7932970781\", \"specialty\": \"ent\", \"county\": \"wayne\", \"efficiency\": 1, \"effectiveness\": 3, \"latitude\": 41.947607, \"longitude\": -83.638757}, {\"npi\": \"1251396851\", \"specialty\": \"pcp\", \"county\": \"wayne\", \"efficiency\": 3, \"effectiveness\": 1, \"latitude\": 42.181351, \"longitude\": -83.929147}, {\"npi\": \"6527320239\", \"specialty\": \"pcp\", \"county\": \"wayne\", \"efficiency\": 5, \"effectiveness\": 2, \"latitude\": 42.269888, \"longitude\": -83.818245}, {\"npi\": \"0622536009\", \"specialty\": \"obgyn\", \"county\": \"wayne\", \"efficiency\": 2, \"effectiveness\": 5, \"latitude\": 42.166198, \"longitude\": -83.62257}, {\"npi\": \"6140467863\", \"specialty\": \"pcp\", \"county\": \"wayne\", \"efficiency\": 3, \"effectiveness\": 2, \"latitude\": 42.269586, \"longitude\": -83.639373}, {\"npi\": \"9773607564\", \"specialty\": \"pcp\", \"county\": \"wayne\", \"efficiency\": 1, \"effectiveness\": 4, \"latitude\": 42.26054, \"longitude\": -83.695313}, {\"npi\": \"9630105758\", \"specialty\": \"cardiologist\", \"county\": \"wayne\", \"efficiency\": 1, \"effectiveness\": 5, \"latitude\": 41.98291, \"longitude\": -83.704926}, {\"npi\": \"4443918706\", \"specialty\": \"ent\", \"county\": \"wayne\", \"efficiency\": 2, \"effectiveness\": 5, \"latitude\": 42.322999, \"longitude\": -83.451136}, {\"npi\": \"8448494170\", \"specialty\": \"ent\", \"county\": \"wayne\", \"efficiency\": 5, \"effectiveness\": 3, \"latitude\": 42.240835, \"longitude\": -83.603482}, {\"npi\": \"1756962130\", \"specialty\": \"pcp\", \"county\": \"wayne\", \"efficiency\": 1, \"effectiveness\": 1, \"latitude\": 42.389965, \"longitude\": -83.471736}, {\"npi\": \"1049533317\", \"specialty\": \"ent\", \"county\": \"wayne\", \"efficiency\": 5, \"effectiveness\": 4, \"latitude\": 41.935179, \"longitude\": -83.800764}, {\"npi\": \"4598618338\", \"specialty\": \"obgyn\", \"county\": \"wayne\", \"efficiency\": 5, \"effectiveness\": 2, \"latitude\": 41.941089, \"longitude\": -83.508828}, {\"npi\": \"0910391687\", \"specialty\": \"obgyn\", \"county\": \"wayne\", \"efficiency\": 4, \"effectiveness\": 1, \"latitude\": 42.006199, \"longitude\": -83.922146}, {\"npi\": \"0926143366\", \"specialty\": \"urologist\", \"county\": \"wayne\", \"efficiency\": 4, \"effectiveness\": 3, \"latitude\": 42.012769, \"longitude\": -83.436462}, {\"npi\": \"9208991940\", \"specialty\": \"cardiologist\", \"county\": \"wayne\", \"efficiency\": 3, \"effectiveness\": 3, \"latitude\": 41.943915, \"longitude\": -83.803077}, {\"npi\": \"5956427279\", \"specialty\": \"cardiologist\", \"county\": \"wayne\", \"efficiency\": 1, \"effectiveness\": 4, \"latitude\": 42.317866, \"longitude\": -83.478969}, {\"npi\": \"7626733804\", \"specialty\": \"ent\", \"county\": \"wayne\", \"efficiency\": 5, \"effectiveness\": 4, \"latitude\": 42.209464, \"longitude\": -83.712367}, {\"npi\": \"4730176527\", \"specialty\": \"pcp\", \"county\": \"wayne\", \"efficiency\": 1, \"effectiveness\": 3, \"latitude\": 41.900848, \"longitude\": -83.861525}, {\"npi\": \"2517702382\", \"specialty\": \"ent\", \"county\": \"wayne\", \"efficiency\": 3, \"effectiveness\": 3, \"latitude\": 42.000648, \"longitude\": -83.677181}, {\"npi\": \"9348511342\", \"specialty\": \"cardiologist\", \"county\": \"wayne\", \"efficiency\": 1, \"effectiveness\": 5, \"latitude\": 42.092042, \"longitude\": -83.789352}, {\"npi\": \"0719085930\", \"specialty\": \"ent\", \"county\": \"wayne\", \"efficiency\": 4, \"effectiveness\": 4, \"latitude\": 42.156311, \"longitude\": -83.578676}, {\"npi\": \"1065490679\", \"specialty\": \"ent\", \"county\": \"wayne\", \"efficiency\": 1, \"effectiveness\": 2, \"latitude\": 42.372212, \"longitude\": -83.46044}, {\"npi\": \"8144017388\", \"specialty\": \"obgyn\", \"county\": \"wayne\", \"efficiency\": 1, \"effectiveness\": 2, \"latitude\": 42.017716, \"longitude\": -83.734973}, {\"npi\": \"0431887586\", \"specialty\": \"urologist\", \"county\": \"wayne\", \"efficiency\": 4, \"effectiveness\": 5, \"latitude\": 42.071489, \"longitude\": -83.919443}, {\"npi\": \"1915906698\", \"specialty\": \"pcp\", \"county\": \"wayne\", \"efficiency\": 2, \"effectiveness\": 5, \"latitude\": 42.120587, \"longitude\": -83.541011}, {\"npi\": \"3076279756\", \"specialty\": \"cardiologist\", \"county\": \"wayne\", \"efficiency\": 5, \"effectiveness\": 3, \"latitude\": 42.199228, \"longitude\": -83.811911}, {\"npi\": \"7864843129\", \"specialty\": \"pcp\", \"county\": \"wayne\", \"efficiency\": 4, \"effectiveness\": 5, \"latitude\": 42.39592, \"longitude\": -83.964465}, {\"npi\": \"7203385782\", \"specialty\": \"pcp\", \"county\": \"wayne\", \"efficiency\": 4, \"effectiveness\": 5, \"latitude\": 42.219267, \"longitude\": -83.602186}, {\"npi\": \"0393900042\", \"specialty\": \"pcp\", \"county\": \"wayne\", \"efficiency\": 1, \"effectiveness\": 3, \"latitude\": 42.221863, \"longitude\": -83.498545}, {\"npi\": \"4649488913\", \"specialty\": \"ent\", \"county\": \"wayne\", \"efficiency\": 5, \"effectiveness\": 4, \"latitude\": 42.361674, \"longitude\": -83.828726}, {\"npi\": \"5602354889\", \"specialty\": \"cardiologist\", \"county\": \"wayne\", \"efficiency\": 3, \"effectiveness\": 5, \"latitude\": 42.275913, \"longitude\": -83.733069}, {\"npi\": \"6189269357\", \"specialty\": \"urologist\", \"county\": \"wayne\", \"efficiency\": 5, \"effectiveness\": 1, \"latitude\": 42.257879, \"longitude\": -83.844395}, {\"npi\": \"6014072543\", \"specialty\": \"obgyn\", \"county\": \"wayne\", \"efficiency\": 3, \"effectiveness\": 2, \"latitude\": 42.109918, \"longitude\": -83.825756}, {\"npi\": \"3906165579\", \"specialty\": \"ent\", \"county\": \"wayne\", \"efficiency\": 4, \"effectiveness\": 1, \"latitude\": 42.000338, \"longitude\": -83.516744}, {\"npi\": \"4864773663\", \"specialty\": \"cardiologist\", \"county\": \"wayne\", \"efficiency\": 1, \"effectiveness\": 4, \"latitude\": 42.288917, \"longitude\": -83.421922}, {\"npi\": \"0002010978\", \"specialty\": \"cardiologist\", \"county\": \"wayne\", \"efficiency\": 5, \"effectiveness\": 3, \"latitude\": 42.335395, \"longitude\": -83.629788}, {\"npi\": \"7947719230\", \"specialty\": \"ent\", \"county\": \"wayne\", \"efficiency\": 3, \"effectiveness\": 3, \"latitude\": 42.262235, \"longitude\": -83.964035}, {\"npi\": \"0195327272\", \"specialty\": \"urologist\", \"county\": \"wayne\", \"efficiency\": 2, \"effectiveness\": 1, \"latitude\": 42.017961, \"longitude\": -83.61734}, {\"npi\": \"3399202838\", \"specialty\": \"ent\", \"county\": \"wayne\", \"efficiency\": 1, \"effectiveness\": 3, \"latitude\": 42.276385, \"longitude\": -83.990671}, {\"npi\": \"7551088381\", \"specialty\": \"pcp\", \"county\": \"wayne\", \"efficiency\": 4, \"effectiveness\": 4, \"latitude\": 42.124511, \"longitude\": -83.597646}, {\"npi\": \"8237569604\", \"specialty\": \"obgyn\", \"county\": \"wayne\", \"efficiency\": 5, \"effectiveness\": 4, \"latitude\": 42.251502, \"longitude\": -83.872823}, {\"npi\": \"8436444945\", \"specialty\": \"cardiologist\", \"county\": \"wayne\", \"efficiency\": 4, \"effectiveness\": 5, \"latitude\": 42.347135, \"longitude\": -83.643294}, {\"npi\": \"6564402658\", \"specialty\": \"ent\", \"county\": \"wayne\", \"efficiency\": 5, \"effectiveness\": 3, \"latitude\": 42.291516, \"longitude\": -83.956609}, {\"npi\": \"1573986950\", \"specialty\": \"urologist\", \"county\": \"wayne\", \"efficiency\": 5, \"effectiveness\": 5, \"latitude\": 42.338486, \"longitude\": -83.737009}, {\"npi\": \"3616858045\", \"specialty\": \"pcp\", \"county\": \"wayne\", \"efficiency\": 5, \"effectiveness\": 4, \"latitude\": 42.043543, \"longitude\": -83.560539}, {\"npi\": \"4011465424\", \"specialty\": \"urologist\", \"county\": \"wayne\", \"efficiency\": 1, \"effectiveness\": 3, \"latitude\": 42.208645, \"longitude\": -83.811415}, {\"npi\": \"2352858129\", \"specialty\": \"obgyn\", \"county\": \"wayne\", \"efficiency\": 5, \"effectiveness\": 4, \"latitude\": 42.254116, \"longitude\": -83.620699}, {\"npi\": \"0758968205\", \"specialty\": \"urologist\", \"county\": \"wayne\", \"efficiency\": 4, \"effectiveness\": 3, \"latitude\": 41.9239, \"longitude\": -83.546193}, {\"npi\": \"0714371546\", \"specialty\": \"obgyn\", \"county\": \"wayne\", \"efficiency\": 5, \"effectiveness\": 2, \"latitude\": 42.16351, \"longitude\": -83.944679}, {\"npi\": \"2126553110\", \"specialty\": \"pcp\", \"county\": \"wayne\", \"efficiency\": 5, \"effectiveness\": 5, \"latitude\": 42.381516, \"longitude\": -83.825223}, {\"npi\": \"6746537689\", \"specialty\": \"pcp\", \"county\": \"wayne\", \"efficiency\": 4, \"effectiveness\": 1, \"latitude\": 41.976079, \"longitude\": -83.890162}, {\"npi\": \"7485413798\", \"specialty\": \"ent\", \"county\": \"wayne\", \"efficiency\": 5, \"effectiveness\": 1, \"latitude\": 42.074594, \"longitude\": -83.507186}, {\"npi\": \"9441804470\", \"specialty\": \"pcp\", \"county\": \"wayne\", \"efficiency\": 5, \"effectiveness\": 2, \"latitude\": 42.202867, \"longitude\": -83.859484}, {\"npi\": \"9304127283\", \"specialty\": \"pcp\", \"county\": \"wayne\", \"efficiency\": 3, \"effectiveness\": 3, \"latitude\": 42.38885, \"longitude\": -83.448132}, {\"npi\": \"0818059943\", \"specialty\": \"urologist\", \"county\": \"wayne\", \"efficiency\": 2, \"effectiveness\": 2, \"latitude\": 42.086443, \"longitude\": -83.88055}, {\"npi\": \"3648316962\", \"specialty\": \"urologist\", \"county\": \"wayne\", \"efficiency\": 2, \"effectiveness\": 5, \"latitude\": 42.27233, \"longitude\": -83.889465}, {\"npi\": \"7890853274\", \"specialty\": \"ent\", \"county\": \"wayne\", \"efficiency\": 4, \"effectiveness\": 4, \"latitude\": 42.138277, \"longitude\": -83.781786}, {\"npi\": \"9410044010\", \"specialty\": \"cardiologist\", \"county\": \"wayne\", \"efficiency\": 3, \"effectiveness\": 3, \"latitude\": 41.951155, \"longitude\": -83.887949}, {\"npi\": \"1552847090\", \"specialty\": \"pcp\", \"county\": \"wayne\", \"efficiency\": 3, \"effectiveness\": 4, \"latitude\": 42.182826, \"longitude\": -83.854135}, {\"npi\": \"8037902831\", \"specialty\": \"urologist\", \"county\": \"wayne\", \"efficiency\": 3, \"effectiveness\": 5, \"latitude\": 42.131267, \"longitude\": -83.406977}, {\"npi\": \"7955947702\", \"specialty\": \"ent\", \"county\": \"wayne\", \"efficiency\": 4, \"effectiveness\": 1, \"latitude\": 42.107191, \"longitude\": -83.41389}, {\"npi\": \"2583035896\", \"specialty\": \"urologist\", \"county\": \"wayne\", \"efficiency\": 5, \"effectiveness\": 3, \"latitude\": 41.93907, \"longitude\": -83.84286}, {\"npi\": \"2980537415\", \"specialty\": \"pcp\", \"county\": \"wayne\", \"efficiency\": 2, \"effectiveness\": 4, \"latitude\": 42.132287, \"longitude\": -83.409815}, {\"npi\": \"0108759532\", \"specialty\": \"urologist\", \"county\": \"wayne\", \"efficiency\": 4, \"effectiveness\": 5, \"latitude\": 42.197617, \"longitude\": -83.515227}, {\"npi\": \"5796512991\", \"specialty\": \"pcp\", \"county\": \"wayne\", \"efficiency\": 3, \"effectiveness\": 4, \"latitude\": 41.94026, \"longitude\": -83.964496}, {\"npi\": \"9046530979\", \"specialty\": \"urologist\", \"county\": \"wayne\", \"efficiency\": 1, \"effectiveness\": 2, \"latitude\": 42.391205, \"longitude\": -83.945294}, {\"npi\": \"5591347412\", \"specialty\": \"ent\", \"county\": \"wayne\", \"efficiency\": 5, \"effectiveness\": 5, \"latitude\": 41.90039, \"longitude\": -83.868992}, {\"npi\": \"1218712045\", \"specialty\": \"cardiologist\", \"county\": \"wayne\", \"efficiency\": 3, \"effectiveness\": 3, \"latitude\": 41.980937, \"longitude\": -83.959018}, {\"npi\": \"7878854982\", \"specialty\": \"pcp\", \"county\": \"wayne\", \"efficiency\": 2, \"effectiveness\": 1, \"latitude\": 42.253691, \"longitude\": -83.895824}, {\"npi\": \"6975222224\", \"specialty\": \"ent\", \"county\": \"wayne\", \"efficiency\": 2, \"effectiveness\": 2, \"latitude\": 42.354163, \"longitude\": -83.593556}, {\"npi\": \"7735513672\", \"specialty\": \"pcp\", \"county\": \"wayne\", \"efficiency\": 1, \"effectiveness\": 1, \"latitude\": 42.266938, \"longitude\": -83.770517}, {\"npi\": \"9885707212\", \"specialty\": \"urologist\", \"county\": \"wayne\", \"efficiency\": 1, \"effectiveness\": 4, \"latitude\": 42.103343, \"longitude\": -83.946334}, {\"npi\": \"6228244939\", \"specialty\": \"cardiologist\", \"county\": \"wayne\", \"efficiency\": 4, \"effectiveness\": 1, \"latitude\": 42.193041, \"longitude\": -83.534802}, {\"npi\": \"9110750916\", \"specialty\": \"cardiologist\", \"county\": \"wayne\", \"efficiency\": 2, \"effectiveness\": 4, \"latitude\": 41.908083, \"longitude\": -83.922547}, {\"npi\": \"8391193857\", \"specialty\": \"ent\", \"county\": \"wayne\", \"efficiency\": 2, \"effectiveness\": 4, \"latitude\": 42.00422, \"longitude\": -83.876092}, {\"npi\": \"1082884331\", \"specialty\": \"cardiologist\", \"county\": \"wayne\", \"efficiency\": 4, \"effectiveness\": 5, \"latitude\": 42.074175, \"longitude\": -83.839252}]}}, {\"mode\": \"vega-lite\"});\n",
       "</script>"
      ],
      "text/plain": [
       "alt.LayerChart(...)"
      ]
     },
     "execution_count": 5,
     "metadata": {},
     "output_type": "execute_result"
    }
   ],
   "source": [
    "states = alt.topo_feature(data.us_10m.url, feature='states')\n",
    "# airports = data.airports()\n",
    "\n",
    "background = alt.Chart(states).mark_geoshape(\n",
    "    fill='lightgray',\n",
    "    stroke='white'\n",
    ").project('albersUsa').properties(\n",
    "    width=2000,\n",
    "    height=1000\n",
    ")\n",
    "\n",
    "members = alt.Chart(synth_members.loc[0:100]).mark_circle(color=\"red\").encode(\n",
    "    longitude='longitude:Q',\n",
    "    latitude='latitude:Q',\n",
    "    size=alt.value(0.5),\n",
    ")\n",
    "\n",
    "providers = alt.Chart(synth_network.loc[0:100]).mark_circle(color=\"blue\").encode(\n",
    "    longitude='longitude:Q',\n",
    "    latitude='latitude:Q',\n",
    "    size=alt.value(0.5),\n",
    ")\n",
    "\n",
    "background + members + providers"
   ]
  },
  {
   "cell_type": "code",
   "execution_count": null,
   "metadata": {},
   "outputs": [],
   "source": []
  }
 ],
 "metadata": {
  "kernelspec": {
   "display_name": "base",
   "language": "python",
   "name": "python3"
  },
  "language_info": {
   "codemirror_mode": {
    "name": "ipython",
    "version": 3
   },
   "file_extension": ".py",
   "mimetype": "text/x-python",
   "name": "python",
   "nbconvert_exporter": "python",
   "pygments_lexer": "ipython3",
   "version": "3.7.16"
  }
 },
 "nbformat": 4,
 "nbformat_minor": 2
}
